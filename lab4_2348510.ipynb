{
  "nbformat": 4,
  "nbformat_minor": 0,
  "metadata": {
    "colab": {
      "provenance": [],
      "authorship_tag": "ABX9TyOKm+pdMkdP5nM4t6T9iC9Z",
      "include_colab_link": true
    },
    "kernelspec": {
      "name": "python3",
      "display_name": "Python 3"
    },
    "language_info": {
      "name": "python"
    }
  },
  "cells": [
    {
      "cell_type": "markdown",
      "metadata": {
        "id": "view-in-github",
        "colab_type": "text"
      },
      "source": [
        "<a href=\"https://colab.research.google.com/github/steffiangel/AML/blob/main/lab4_2348510.ipynb\" target=\"_parent\"><img src=\"https://colab.research.google.com/assets/colab-badge.svg\" alt=\"Open In Colab\"/></a>"
      ]
    },
    {
      "cell_type": "code",
      "execution_count": null,
      "metadata": {
        "id": "1--twhoYfPge"
      },
      "outputs": [],
      "source": [
        "import numpy as np\n",
        "import pandas as pd\n",
        "import matplotlib.pyplot as plt\n",
        "from sklearn.linear_model import LinearRegression\n",
        "from sklearn.metrics import r2_score\n",
        "from sklearn.preprocessing import PolynomialFeatures\n",
        "from sklearn.model_selection import train_test_split\n",
        "\n",
        "from sklearn.metrics import mean_absolute_error, mean_squared_error, r2_score\n",
        "from sklearn.preprocessing import LabelEncoder"
      ]
    },
    {
      "cell_type": "code",
      "source": [
        "df=pd.read_csv('/content/Program_4_Dataset - Program_4_Dataset.csv')"
      ],
      "metadata": {
        "id": "57vj-ZK8Ituq"
      },
      "execution_count": null,
      "outputs": []
    },
    {
      "cell_type": "code",
      "source": [
        "df.head()"
      ],
      "metadata": {
        "colab": {
          "base_uri": "https://localhost:8080/",
          "height": 206
        },
        "id": "Hg0qxE8mIyCx",
        "outputId": "6e897815-6696-441b-9bd2-87d590c61401"
      },
      "execution_count": null,
      "outputs": [
        {
          "output_type": "execute_result",
          "data": {
            "text/plain": [
              "   index  OS_Time_Stamp  Temperature  Pressure  Humidity  \\\n",
              "0      0     1456761674         17.7    1015.2      76.4   \n",
              "1      1     1456761733         17.7    1015.3      76.4   \n",
              "2      2     1456761792         17.7    1015.3      76.5   \n",
              "3      3     1456761853         17.7    1015.3      76.7   \n",
              "4      4     1456761912         17.6    1015.2      76.8   \n",
              "\n",
              "                   TimeStamp  \n",
              "0  2016-03-01 00:01:14+08:00  \n",
              "1  2016-03-01 00:02:13+08:00  \n",
              "2  2016-03-01 00:03:12+08:00  \n",
              "3  2016-03-01 00:04:13+08:00  \n",
              "4  2016-03-01 00:05:12+08:00  "
            ],
            "text/html": [
              "\n",
              "  <div id=\"df-a2d33617-9910-4120-b242-2494e5bcaf33\" class=\"colab-df-container\">\n",
              "    <div>\n",
              "<style scoped>\n",
              "    .dataframe tbody tr th:only-of-type {\n",
              "        vertical-align: middle;\n",
              "    }\n",
              "\n",
              "    .dataframe tbody tr th {\n",
              "        vertical-align: top;\n",
              "    }\n",
              "\n",
              "    .dataframe thead th {\n",
              "        text-align: right;\n",
              "    }\n",
              "</style>\n",
              "<table border=\"1\" class=\"dataframe\">\n",
              "  <thead>\n",
              "    <tr style=\"text-align: right;\">\n",
              "      <th></th>\n",
              "      <th>index</th>\n",
              "      <th>OS_Time_Stamp</th>\n",
              "      <th>Temperature</th>\n",
              "      <th>Pressure</th>\n",
              "      <th>Humidity</th>\n",
              "      <th>TimeStamp</th>\n",
              "    </tr>\n",
              "  </thead>\n",
              "  <tbody>\n",
              "    <tr>\n",
              "      <th>0</th>\n",
              "      <td>0</td>\n",
              "      <td>1456761674</td>\n",
              "      <td>17.7</td>\n",
              "      <td>1015.2</td>\n",
              "      <td>76.4</td>\n",
              "      <td>2016-03-01 00:01:14+08:00</td>\n",
              "    </tr>\n",
              "    <tr>\n",
              "      <th>1</th>\n",
              "      <td>1</td>\n",
              "      <td>1456761733</td>\n",
              "      <td>17.7</td>\n",
              "      <td>1015.3</td>\n",
              "      <td>76.4</td>\n",
              "      <td>2016-03-01 00:02:13+08:00</td>\n",
              "    </tr>\n",
              "    <tr>\n",
              "      <th>2</th>\n",
              "      <td>2</td>\n",
              "      <td>1456761792</td>\n",
              "      <td>17.7</td>\n",
              "      <td>1015.3</td>\n",
              "      <td>76.5</td>\n",
              "      <td>2016-03-01 00:03:12+08:00</td>\n",
              "    </tr>\n",
              "    <tr>\n",
              "      <th>3</th>\n",
              "      <td>3</td>\n",
              "      <td>1456761853</td>\n",
              "      <td>17.7</td>\n",
              "      <td>1015.3</td>\n",
              "      <td>76.7</td>\n",
              "      <td>2016-03-01 00:04:13+08:00</td>\n",
              "    </tr>\n",
              "    <tr>\n",
              "      <th>4</th>\n",
              "      <td>4</td>\n",
              "      <td>1456761912</td>\n",
              "      <td>17.6</td>\n",
              "      <td>1015.2</td>\n",
              "      <td>76.8</td>\n",
              "      <td>2016-03-01 00:05:12+08:00</td>\n",
              "    </tr>\n",
              "  </tbody>\n",
              "</table>\n",
              "</div>\n",
              "    <div class=\"colab-df-buttons\">\n",
              "\n",
              "  <div class=\"colab-df-container\">\n",
              "    <button class=\"colab-df-convert\" onclick=\"convertToInteractive('df-a2d33617-9910-4120-b242-2494e5bcaf33')\"\n",
              "            title=\"Convert this dataframe to an interactive table.\"\n",
              "            style=\"display:none;\">\n",
              "\n",
              "  <svg xmlns=\"http://www.w3.org/2000/svg\" height=\"24px\" viewBox=\"0 -960 960 960\">\n",
              "    <path d=\"M120-120v-720h720v720H120Zm60-500h600v-160H180v160Zm220 220h160v-160H400v160Zm0 220h160v-160H400v160ZM180-400h160v-160H180v160Zm440 0h160v-160H620v160ZM180-180h160v-160H180v160Zm440 0h160v-160H620v160Z\"/>\n",
              "  </svg>\n",
              "    </button>\n",
              "\n",
              "  <style>\n",
              "    .colab-df-container {\n",
              "      display:flex;\n",
              "      gap: 12px;\n",
              "    }\n",
              "\n",
              "    .colab-df-convert {\n",
              "      background-color: #E8F0FE;\n",
              "      border: none;\n",
              "      border-radius: 50%;\n",
              "      cursor: pointer;\n",
              "      display: none;\n",
              "      fill: #1967D2;\n",
              "      height: 32px;\n",
              "      padding: 0 0 0 0;\n",
              "      width: 32px;\n",
              "    }\n",
              "\n",
              "    .colab-df-convert:hover {\n",
              "      background-color: #E2EBFA;\n",
              "      box-shadow: 0px 1px 2px rgba(60, 64, 67, 0.3), 0px 1px 3px 1px rgba(60, 64, 67, 0.15);\n",
              "      fill: #174EA6;\n",
              "    }\n",
              "\n",
              "    .colab-df-buttons div {\n",
              "      margin-bottom: 4px;\n",
              "    }\n",
              "\n",
              "    [theme=dark] .colab-df-convert {\n",
              "      background-color: #3B4455;\n",
              "      fill: #D2E3FC;\n",
              "    }\n",
              "\n",
              "    [theme=dark] .colab-df-convert:hover {\n",
              "      background-color: #434B5C;\n",
              "      box-shadow: 0px 1px 3px 1px rgba(0, 0, 0, 0.15);\n",
              "      filter: drop-shadow(0px 1px 2px rgba(0, 0, 0, 0.3));\n",
              "      fill: #FFFFFF;\n",
              "    }\n",
              "  </style>\n",
              "\n",
              "    <script>\n",
              "      const buttonEl =\n",
              "        document.querySelector('#df-a2d33617-9910-4120-b242-2494e5bcaf33 button.colab-df-convert');\n",
              "      buttonEl.style.display =\n",
              "        google.colab.kernel.accessAllowed ? 'block' : 'none';\n",
              "\n",
              "      async function convertToInteractive(key) {\n",
              "        const element = document.querySelector('#df-a2d33617-9910-4120-b242-2494e5bcaf33');\n",
              "        const dataTable =\n",
              "          await google.colab.kernel.invokeFunction('convertToInteractive',\n",
              "                                                    [key], {});\n",
              "        if (!dataTable) return;\n",
              "\n",
              "        const docLinkHtml = 'Like what you see? Visit the ' +\n",
              "          '<a target=\"_blank\" href=https://colab.research.google.com/notebooks/data_table.ipynb>data table notebook</a>'\n",
              "          + ' to learn more about interactive tables.';\n",
              "        element.innerHTML = '';\n",
              "        dataTable['output_type'] = 'display_data';\n",
              "        await google.colab.output.renderOutput(dataTable, element);\n",
              "        const docLink = document.createElement('div');\n",
              "        docLink.innerHTML = docLinkHtml;\n",
              "        element.appendChild(docLink);\n",
              "      }\n",
              "    </script>\n",
              "  </div>\n",
              "\n",
              "\n",
              "<div id=\"df-77237857-bcb7-44f3-8ad5-3230f1eea8ed\">\n",
              "  <button class=\"colab-df-quickchart\" onclick=\"quickchart('df-77237857-bcb7-44f3-8ad5-3230f1eea8ed')\"\n",
              "            title=\"Suggest charts\"\n",
              "            style=\"display:none;\">\n",
              "\n",
              "<svg xmlns=\"http://www.w3.org/2000/svg\" height=\"24px\"viewBox=\"0 0 24 24\"\n",
              "     width=\"24px\">\n",
              "    <g>\n",
              "        <path d=\"M19 3H5c-1.1 0-2 .9-2 2v14c0 1.1.9 2 2 2h14c1.1 0 2-.9 2-2V5c0-1.1-.9-2-2-2zM9 17H7v-7h2v7zm4 0h-2V7h2v10zm4 0h-2v-4h2v4z\"/>\n",
              "    </g>\n",
              "</svg>\n",
              "  </button>\n",
              "\n",
              "<style>\n",
              "  .colab-df-quickchart {\n",
              "      --bg-color: #E8F0FE;\n",
              "      --fill-color: #1967D2;\n",
              "      --hover-bg-color: #E2EBFA;\n",
              "      --hover-fill-color: #174EA6;\n",
              "      --disabled-fill-color: #AAA;\n",
              "      --disabled-bg-color: #DDD;\n",
              "  }\n",
              "\n",
              "  [theme=dark] .colab-df-quickchart {\n",
              "      --bg-color: #3B4455;\n",
              "      --fill-color: #D2E3FC;\n",
              "      --hover-bg-color: #434B5C;\n",
              "      --hover-fill-color: #FFFFFF;\n",
              "      --disabled-bg-color: #3B4455;\n",
              "      --disabled-fill-color: #666;\n",
              "  }\n",
              "\n",
              "  .colab-df-quickchart {\n",
              "    background-color: var(--bg-color);\n",
              "    border: none;\n",
              "    border-radius: 50%;\n",
              "    cursor: pointer;\n",
              "    display: none;\n",
              "    fill: var(--fill-color);\n",
              "    height: 32px;\n",
              "    padding: 0;\n",
              "    width: 32px;\n",
              "  }\n",
              "\n",
              "  .colab-df-quickchart:hover {\n",
              "    background-color: var(--hover-bg-color);\n",
              "    box-shadow: 0 1px 2px rgba(60, 64, 67, 0.3), 0 1px 3px 1px rgba(60, 64, 67, 0.15);\n",
              "    fill: var(--button-hover-fill-color);\n",
              "  }\n",
              "\n",
              "  .colab-df-quickchart-complete:disabled,\n",
              "  .colab-df-quickchart-complete:disabled:hover {\n",
              "    background-color: var(--disabled-bg-color);\n",
              "    fill: var(--disabled-fill-color);\n",
              "    box-shadow: none;\n",
              "  }\n",
              "\n",
              "  .colab-df-spinner {\n",
              "    border: 2px solid var(--fill-color);\n",
              "    border-color: transparent;\n",
              "    border-bottom-color: var(--fill-color);\n",
              "    animation:\n",
              "      spin 1s steps(1) infinite;\n",
              "  }\n",
              "\n",
              "  @keyframes spin {\n",
              "    0% {\n",
              "      border-color: transparent;\n",
              "      border-bottom-color: var(--fill-color);\n",
              "      border-left-color: var(--fill-color);\n",
              "    }\n",
              "    20% {\n",
              "      border-color: transparent;\n",
              "      border-left-color: var(--fill-color);\n",
              "      border-top-color: var(--fill-color);\n",
              "    }\n",
              "    30% {\n",
              "      border-color: transparent;\n",
              "      border-left-color: var(--fill-color);\n",
              "      border-top-color: var(--fill-color);\n",
              "      border-right-color: var(--fill-color);\n",
              "    }\n",
              "    40% {\n",
              "      border-color: transparent;\n",
              "      border-right-color: var(--fill-color);\n",
              "      border-top-color: var(--fill-color);\n",
              "    }\n",
              "    60% {\n",
              "      border-color: transparent;\n",
              "      border-right-color: var(--fill-color);\n",
              "    }\n",
              "    80% {\n",
              "      border-color: transparent;\n",
              "      border-right-color: var(--fill-color);\n",
              "      border-bottom-color: var(--fill-color);\n",
              "    }\n",
              "    90% {\n",
              "      border-color: transparent;\n",
              "      border-bottom-color: var(--fill-color);\n",
              "    }\n",
              "  }\n",
              "</style>\n",
              "\n",
              "  <script>\n",
              "    async function quickchart(key) {\n",
              "      const quickchartButtonEl =\n",
              "        document.querySelector('#' + key + ' button');\n",
              "      quickchartButtonEl.disabled = true;  // To prevent multiple clicks.\n",
              "      quickchartButtonEl.classList.add('colab-df-spinner');\n",
              "      try {\n",
              "        const charts = await google.colab.kernel.invokeFunction(\n",
              "            'suggestCharts', [key], {});\n",
              "      } catch (error) {\n",
              "        console.error('Error during call to suggestCharts:', error);\n",
              "      }\n",
              "      quickchartButtonEl.classList.remove('colab-df-spinner');\n",
              "      quickchartButtonEl.classList.add('colab-df-quickchart-complete');\n",
              "    }\n",
              "    (() => {\n",
              "      let quickchartButtonEl =\n",
              "        document.querySelector('#df-77237857-bcb7-44f3-8ad5-3230f1eea8ed button');\n",
              "      quickchartButtonEl.style.display =\n",
              "        google.colab.kernel.accessAllowed ? 'block' : 'none';\n",
              "    })();\n",
              "  </script>\n",
              "</div>\n",
              "    </div>\n",
              "  </div>\n"
            ]
          },
          "metadata": {},
          "execution_count": 86
        }
      ]
    },
    {
      "cell_type": "code",
      "source": [
        "columns_to_convert = ['Temperature', 'Pressure']\n",
        "\n",
        "# Convert specified columns to integers\n",
        "df[columns_to_convert] = df[columns_to_convert].astype(int)"
      ],
      "metadata": {
        "id": "5YHf3sK8MU8Z"
      },
      "execution_count": null,
      "outputs": []
    },
    {
      "cell_type": "code",
      "source": [
        "df.head()"
      ],
      "metadata": {
        "colab": {
          "base_uri": "https://localhost:8080/",
          "height": 206
        },
        "id": "RrFDVbNMZ4KZ",
        "outputId": "6d366395-8a7f-4d72-e149-334a9e31c719"
      },
      "execution_count": null,
      "outputs": [
        {
          "output_type": "execute_result",
          "data": {
            "text/plain": [
              "   index  OS_Time_Stamp  Temperature  Pressure  Humidity  \\\n",
              "0      0     1456761674           17      1015      76.4   \n",
              "1      1     1456761733           17      1015      76.4   \n",
              "2      2     1456761792           17      1015      76.5   \n",
              "3      3     1456761853           17      1015      76.7   \n",
              "4      4     1456761912           17      1015      76.8   \n",
              "\n",
              "                   TimeStamp  \n",
              "0  2016-03-01 00:01:14+08:00  \n",
              "1  2016-03-01 00:02:13+08:00  \n",
              "2  2016-03-01 00:03:12+08:00  \n",
              "3  2016-03-01 00:04:13+08:00  \n",
              "4  2016-03-01 00:05:12+08:00  "
            ],
            "text/html": [
              "\n",
              "  <div id=\"df-9acb3bc9-db9e-4588-be6b-06b0d26de26a\" class=\"colab-df-container\">\n",
              "    <div>\n",
              "<style scoped>\n",
              "    .dataframe tbody tr th:only-of-type {\n",
              "        vertical-align: middle;\n",
              "    }\n",
              "\n",
              "    .dataframe tbody tr th {\n",
              "        vertical-align: top;\n",
              "    }\n",
              "\n",
              "    .dataframe thead th {\n",
              "        text-align: right;\n",
              "    }\n",
              "</style>\n",
              "<table border=\"1\" class=\"dataframe\">\n",
              "  <thead>\n",
              "    <tr style=\"text-align: right;\">\n",
              "      <th></th>\n",
              "      <th>index</th>\n",
              "      <th>OS_Time_Stamp</th>\n",
              "      <th>Temperature</th>\n",
              "      <th>Pressure</th>\n",
              "      <th>Humidity</th>\n",
              "      <th>TimeStamp</th>\n",
              "    </tr>\n",
              "  </thead>\n",
              "  <tbody>\n",
              "    <tr>\n",
              "      <th>0</th>\n",
              "      <td>0</td>\n",
              "      <td>1456761674</td>\n",
              "      <td>17</td>\n",
              "      <td>1015</td>\n",
              "      <td>76.4</td>\n",
              "      <td>2016-03-01 00:01:14+08:00</td>\n",
              "    </tr>\n",
              "    <tr>\n",
              "      <th>1</th>\n",
              "      <td>1</td>\n",
              "      <td>1456761733</td>\n",
              "      <td>17</td>\n",
              "      <td>1015</td>\n",
              "      <td>76.4</td>\n",
              "      <td>2016-03-01 00:02:13+08:00</td>\n",
              "    </tr>\n",
              "    <tr>\n",
              "      <th>2</th>\n",
              "      <td>2</td>\n",
              "      <td>1456761792</td>\n",
              "      <td>17</td>\n",
              "      <td>1015</td>\n",
              "      <td>76.5</td>\n",
              "      <td>2016-03-01 00:03:12+08:00</td>\n",
              "    </tr>\n",
              "    <tr>\n",
              "      <th>3</th>\n",
              "      <td>3</td>\n",
              "      <td>1456761853</td>\n",
              "      <td>17</td>\n",
              "      <td>1015</td>\n",
              "      <td>76.7</td>\n",
              "      <td>2016-03-01 00:04:13+08:00</td>\n",
              "    </tr>\n",
              "    <tr>\n",
              "      <th>4</th>\n",
              "      <td>4</td>\n",
              "      <td>1456761912</td>\n",
              "      <td>17</td>\n",
              "      <td>1015</td>\n",
              "      <td>76.8</td>\n",
              "      <td>2016-03-01 00:05:12+08:00</td>\n",
              "    </tr>\n",
              "  </tbody>\n",
              "</table>\n",
              "</div>\n",
              "    <div class=\"colab-df-buttons\">\n",
              "\n",
              "  <div class=\"colab-df-container\">\n",
              "    <button class=\"colab-df-convert\" onclick=\"convertToInteractive('df-9acb3bc9-db9e-4588-be6b-06b0d26de26a')\"\n",
              "            title=\"Convert this dataframe to an interactive table.\"\n",
              "            style=\"display:none;\">\n",
              "\n",
              "  <svg xmlns=\"http://www.w3.org/2000/svg\" height=\"24px\" viewBox=\"0 -960 960 960\">\n",
              "    <path d=\"M120-120v-720h720v720H120Zm60-500h600v-160H180v160Zm220 220h160v-160H400v160Zm0 220h160v-160H400v160ZM180-400h160v-160H180v160Zm440 0h160v-160H620v160ZM180-180h160v-160H180v160Zm440 0h160v-160H620v160Z\"/>\n",
              "  </svg>\n",
              "    </button>\n",
              "\n",
              "  <style>\n",
              "    .colab-df-container {\n",
              "      display:flex;\n",
              "      gap: 12px;\n",
              "    }\n",
              "\n",
              "    .colab-df-convert {\n",
              "      background-color: #E8F0FE;\n",
              "      border: none;\n",
              "      border-radius: 50%;\n",
              "      cursor: pointer;\n",
              "      display: none;\n",
              "      fill: #1967D2;\n",
              "      height: 32px;\n",
              "      padding: 0 0 0 0;\n",
              "      width: 32px;\n",
              "    }\n",
              "\n",
              "    .colab-df-convert:hover {\n",
              "      background-color: #E2EBFA;\n",
              "      box-shadow: 0px 1px 2px rgba(60, 64, 67, 0.3), 0px 1px 3px 1px rgba(60, 64, 67, 0.15);\n",
              "      fill: #174EA6;\n",
              "    }\n",
              "\n",
              "    .colab-df-buttons div {\n",
              "      margin-bottom: 4px;\n",
              "    }\n",
              "\n",
              "    [theme=dark] .colab-df-convert {\n",
              "      background-color: #3B4455;\n",
              "      fill: #D2E3FC;\n",
              "    }\n",
              "\n",
              "    [theme=dark] .colab-df-convert:hover {\n",
              "      background-color: #434B5C;\n",
              "      box-shadow: 0px 1px 3px 1px rgba(0, 0, 0, 0.15);\n",
              "      filter: drop-shadow(0px 1px 2px rgba(0, 0, 0, 0.3));\n",
              "      fill: #FFFFFF;\n",
              "    }\n",
              "  </style>\n",
              "\n",
              "    <script>\n",
              "      const buttonEl =\n",
              "        document.querySelector('#df-9acb3bc9-db9e-4588-be6b-06b0d26de26a button.colab-df-convert');\n",
              "      buttonEl.style.display =\n",
              "        google.colab.kernel.accessAllowed ? 'block' : 'none';\n",
              "\n",
              "      async function convertToInteractive(key) {\n",
              "        const element = document.querySelector('#df-9acb3bc9-db9e-4588-be6b-06b0d26de26a');\n",
              "        const dataTable =\n",
              "          await google.colab.kernel.invokeFunction('convertToInteractive',\n",
              "                                                    [key], {});\n",
              "        if (!dataTable) return;\n",
              "\n",
              "        const docLinkHtml = 'Like what you see? Visit the ' +\n",
              "          '<a target=\"_blank\" href=https://colab.research.google.com/notebooks/data_table.ipynb>data table notebook</a>'\n",
              "          + ' to learn more about interactive tables.';\n",
              "        element.innerHTML = '';\n",
              "        dataTable['output_type'] = 'display_data';\n",
              "        await google.colab.output.renderOutput(dataTable, element);\n",
              "        const docLink = document.createElement('div');\n",
              "        docLink.innerHTML = docLinkHtml;\n",
              "        element.appendChild(docLink);\n",
              "      }\n",
              "    </script>\n",
              "  </div>\n",
              "\n",
              "\n",
              "<div id=\"df-57379f15-b4cc-4c7a-b125-446bd902ef40\">\n",
              "  <button class=\"colab-df-quickchart\" onclick=\"quickchart('df-57379f15-b4cc-4c7a-b125-446bd902ef40')\"\n",
              "            title=\"Suggest charts\"\n",
              "            style=\"display:none;\">\n",
              "\n",
              "<svg xmlns=\"http://www.w3.org/2000/svg\" height=\"24px\"viewBox=\"0 0 24 24\"\n",
              "     width=\"24px\">\n",
              "    <g>\n",
              "        <path d=\"M19 3H5c-1.1 0-2 .9-2 2v14c0 1.1.9 2 2 2h14c1.1 0 2-.9 2-2V5c0-1.1-.9-2-2-2zM9 17H7v-7h2v7zm4 0h-2V7h2v10zm4 0h-2v-4h2v4z\"/>\n",
              "    </g>\n",
              "</svg>\n",
              "  </button>\n",
              "\n",
              "<style>\n",
              "  .colab-df-quickchart {\n",
              "      --bg-color: #E8F0FE;\n",
              "      --fill-color: #1967D2;\n",
              "      --hover-bg-color: #E2EBFA;\n",
              "      --hover-fill-color: #174EA6;\n",
              "      --disabled-fill-color: #AAA;\n",
              "      --disabled-bg-color: #DDD;\n",
              "  }\n",
              "\n",
              "  [theme=dark] .colab-df-quickchart {\n",
              "      --bg-color: #3B4455;\n",
              "      --fill-color: #D2E3FC;\n",
              "      --hover-bg-color: #434B5C;\n",
              "      --hover-fill-color: #FFFFFF;\n",
              "      --disabled-bg-color: #3B4455;\n",
              "      --disabled-fill-color: #666;\n",
              "  }\n",
              "\n",
              "  .colab-df-quickchart {\n",
              "    background-color: var(--bg-color);\n",
              "    border: none;\n",
              "    border-radius: 50%;\n",
              "    cursor: pointer;\n",
              "    display: none;\n",
              "    fill: var(--fill-color);\n",
              "    height: 32px;\n",
              "    padding: 0;\n",
              "    width: 32px;\n",
              "  }\n",
              "\n",
              "  .colab-df-quickchart:hover {\n",
              "    background-color: var(--hover-bg-color);\n",
              "    box-shadow: 0 1px 2px rgba(60, 64, 67, 0.3), 0 1px 3px 1px rgba(60, 64, 67, 0.15);\n",
              "    fill: var(--button-hover-fill-color);\n",
              "  }\n",
              "\n",
              "  .colab-df-quickchart-complete:disabled,\n",
              "  .colab-df-quickchart-complete:disabled:hover {\n",
              "    background-color: var(--disabled-bg-color);\n",
              "    fill: var(--disabled-fill-color);\n",
              "    box-shadow: none;\n",
              "  }\n",
              "\n",
              "  .colab-df-spinner {\n",
              "    border: 2px solid var(--fill-color);\n",
              "    border-color: transparent;\n",
              "    border-bottom-color: var(--fill-color);\n",
              "    animation:\n",
              "      spin 1s steps(1) infinite;\n",
              "  }\n",
              "\n",
              "  @keyframes spin {\n",
              "    0% {\n",
              "      border-color: transparent;\n",
              "      border-bottom-color: var(--fill-color);\n",
              "      border-left-color: var(--fill-color);\n",
              "    }\n",
              "    20% {\n",
              "      border-color: transparent;\n",
              "      border-left-color: var(--fill-color);\n",
              "      border-top-color: var(--fill-color);\n",
              "    }\n",
              "    30% {\n",
              "      border-color: transparent;\n",
              "      border-left-color: var(--fill-color);\n",
              "      border-top-color: var(--fill-color);\n",
              "      border-right-color: var(--fill-color);\n",
              "    }\n",
              "    40% {\n",
              "      border-color: transparent;\n",
              "      border-right-color: var(--fill-color);\n",
              "      border-top-color: var(--fill-color);\n",
              "    }\n",
              "    60% {\n",
              "      border-color: transparent;\n",
              "      border-right-color: var(--fill-color);\n",
              "    }\n",
              "    80% {\n",
              "      border-color: transparent;\n",
              "      border-right-color: var(--fill-color);\n",
              "      border-bottom-color: var(--fill-color);\n",
              "    }\n",
              "    90% {\n",
              "      border-color: transparent;\n",
              "      border-bottom-color: var(--fill-color);\n",
              "    }\n",
              "  }\n",
              "</style>\n",
              "\n",
              "  <script>\n",
              "    async function quickchart(key) {\n",
              "      const quickchartButtonEl =\n",
              "        document.querySelector('#' + key + ' button');\n",
              "      quickchartButtonEl.disabled = true;  // To prevent multiple clicks.\n",
              "      quickchartButtonEl.classList.add('colab-df-spinner');\n",
              "      try {\n",
              "        const charts = await google.colab.kernel.invokeFunction(\n",
              "            'suggestCharts', [key], {});\n",
              "      } catch (error) {\n",
              "        console.error('Error during call to suggestCharts:', error);\n",
              "      }\n",
              "      quickchartButtonEl.classList.remove('colab-df-spinner');\n",
              "      quickchartButtonEl.classList.add('colab-df-quickchart-complete');\n",
              "    }\n",
              "    (() => {\n",
              "      let quickchartButtonEl =\n",
              "        document.querySelector('#df-57379f15-b4cc-4c7a-b125-446bd902ef40 button');\n",
              "      quickchartButtonEl.style.display =\n",
              "        google.colab.kernel.accessAllowed ? 'block' : 'none';\n",
              "    })();\n",
              "  </script>\n",
              "</div>\n",
              "    </div>\n",
              "  </div>\n"
            ]
          },
          "metadata": {},
          "execution_count": 144
        }
      ]
    },
    {
      "cell_type": "code",
      "source": [
        "df.info()"
      ],
      "metadata": {
        "colab": {
          "base_uri": "https://localhost:8080/"
        },
        "id": "knlM2n3rIy_z",
        "outputId": "2fa4d811-c9be-4a5c-d331-8ac902f7dd70"
      },
      "execution_count": null,
      "outputs": [
        {
          "output_type": "stream",
          "name": "stdout",
          "text": [
            "<class 'pandas.core.frame.DataFrame'>\n",
            "RangeIndex: 2878 entries, 0 to 2877\n",
            "Data columns (total 6 columns):\n",
            " #   Column         Non-Null Count  Dtype  \n",
            "---  ------         --------------  -----  \n",
            " 0   index          2878 non-null   int64  \n",
            " 1   OS_Time_Stamp  2878 non-null   int64  \n",
            " 2   Temperature    2878 non-null   int64  \n",
            " 3   Pressure       2878 non-null   int64  \n",
            " 4   Humidity       2878 non-null   float64\n",
            " 5   TimeStamp      2878 non-null   object \n",
            "dtypes: float64(1), int64(4), object(1)\n",
            "memory usage: 135.0+ KB\n"
          ]
        }
      ]
    },
    {
      "cell_type": "code",
      "source": [
        "df.describe()"
      ],
      "metadata": {
        "colab": {
          "base_uri": "https://localhost:8080/",
          "height": 300
        },
        "id": "P3lkeKLCIz-O",
        "outputId": "52cb4c7a-c33f-40c6-a033-a52c43b0abf0"
      },
      "execution_count": null,
      "outputs": [
        {
          "output_type": "execute_result",
          "data": {
            "text/plain": [
              "             index  OS_Time_Stamp  Temperature     Pressure     Humidity\n",
              "count  2878.000000   2.878000e+03  2878.000000  2878.000000  2878.000000\n",
              "mean    719.000000   1.460520e+09    23.703961  1005.380125    80.653475\n",
              "std     415.475606   3.715930e+06     4.894855     8.382292    22.736845\n",
              "min       0.000000   1.456762e+09    14.000000   994.000000    40.000000\n",
              "25%     359.250000   1.456805e+09    20.000000   997.000000    56.650000\n",
              "50%     719.000000   1.460520e+09    25.500000  1010.000000    92.300000\n",
              "75%    1078.750000   1.464235e+09    28.000000  1013.000000   100.000000\n",
              "max    1438.000000   1.464278e+09    31.000000  1016.000000   100.000000"
            ],
            "text/html": [
              "\n",
              "  <div id=\"df-5d274565-f08c-4bc3-9112-cb10f589192d\" class=\"colab-df-container\">\n",
              "    <div>\n",
              "<style scoped>\n",
              "    .dataframe tbody tr th:only-of-type {\n",
              "        vertical-align: middle;\n",
              "    }\n",
              "\n",
              "    .dataframe tbody tr th {\n",
              "        vertical-align: top;\n",
              "    }\n",
              "\n",
              "    .dataframe thead th {\n",
              "        text-align: right;\n",
              "    }\n",
              "</style>\n",
              "<table border=\"1\" class=\"dataframe\">\n",
              "  <thead>\n",
              "    <tr style=\"text-align: right;\">\n",
              "      <th></th>\n",
              "      <th>index</th>\n",
              "      <th>OS_Time_Stamp</th>\n",
              "      <th>Temperature</th>\n",
              "      <th>Pressure</th>\n",
              "      <th>Humidity</th>\n",
              "    </tr>\n",
              "  </thead>\n",
              "  <tbody>\n",
              "    <tr>\n",
              "      <th>count</th>\n",
              "      <td>2878.000000</td>\n",
              "      <td>2.878000e+03</td>\n",
              "      <td>2878.000000</td>\n",
              "      <td>2878.000000</td>\n",
              "      <td>2878.000000</td>\n",
              "    </tr>\n",
              "    <tr>\n",
              "      <th>mean</th>\n",
              "      <td>719.000000</td>\n",
              "      <td>1.460520e+09</td>\n",
              "      <td>23.703961</td>\n",
              "      <td>1005.380125</td>\n",
              "      <td>80.653475</td>\n",
              "    </tr>\n",
              "    <tr>\n",
              "      <th>std</th>\n",
              "      <td>415.475606</td>\n",
              "      <td>3.715930e+06</td>\n",
              "      <td>4.894855</td>\n",
              "      <td>8.382292</td>\n",
              "      <td>22.736845</td>\n",
              "    </tr>\n",
              "    <tr>\n",
              "      <th>min</th>\n",
              "      <td>0.000000</td>\n",
              "      <td>1.456762e+09</td>\n",
              "      <td>14.000000</td>\n",
              "      <td>994.000000</td>\n",
              "      <td>40.000000</td>\n",
              "    </tr>\n",
              "    <tr>\n",
              "      <th>25%</th>\n",
              "      <td>359.250000</td>\n",
              "      <td>1.456805e+09</td>\n",
              "      <td>20.000000</td>\n",
              "      <td>997.000000</td>\n",
              "      <td>56.650000</td>\n",
              "    </tr>\n",
              "    <tr>\n",
              "      <th>50%</th>\n",
              "      <td>719.000000</td>\n",
              "      <td>1.460520e+09</td>\n",
              "      <td>25.500000</td>\n",
              "      <td>1010.000000</td>\n",
              "      <td>92.300000</td>\n",
              "    </tr>\n",
              "    <tr>\n",
              "      <th>75%</th>\n",
              "      <td>1078.750000</td>\n",
              "      <td>1.464235e+09</td>\n",
              "      <td>28.000000</td>\n",
              "      <td>1013.000000</td>\n",
              "      <td>100.000000</td>\n",
              "    </tr>\n",
              "    <tr>\n",
              "      <th>max</th>\n",
              "      <td>1438.000000</td>\n",
              "      <td>1.464278e+09</td>\n",
              "      <td>31.000000</td>\n",
              "      <td>1016.000000</td>\n",
              "      <td>100.000000</td>\n",
              "    </tr>\n",
              "  </tbody>\n",
              "</table>\n",
              "</div>\n",
              "    <div class=\"colab-df-buttons\">\n",
              "\n",
              "  <div class=\"colab-df-container\">\n",
              "    <button class=\"colab-df-convert\" onclick=\"convertToInteractive('df-5d274565-f08c-4bc3-9112-cb10f589192d')\"\n",
              "            title=\"Convert this dataframe to an interactive table.\"\n",
              "            style=\"display:none;\">\n",
              "\n",
              "  <svg xmlns=\"http://www.w3.org/2000/svg\" height=\"24px\" viewBox=\"0 -960 960 960\">\n",
              "    <path d=\"M120-120v-720h720v720H120Zm60-500h600v-160H180v160Zm220 220h160v-160H400v160Zm0 220h160v-160H400v160ZM180-400h160v-160H180v160Zm440 0h160v-160H620v160ZM180-180h160v-160H180v160Zm440 0h160v-160H620v160Z\"/>\n",
              "  </svg>\n",
              "    </button>\n",
              "\n",
              "  <style>\n",
              "    .colab-df-container {\n",
              "      display:flex;\n",
              "      gap: 12px;\n",
              "    }\n",
              "\n",
              "    .colab-df-convert {\n",
              "      background-color: #E8F0FE;\n",
              "      border: none;\n",
              "      border-radius: 50%;\n",
              "      cursor: pointer;\n",
              "      display: none;\n",
              "      fill: #1967D2;\n",
              "      height: 32px;\n",
              "      padding: 0 0 0 0;\n",
              "      width: 32px;\n",
              "    }\n",
              "\n",
              "    .colab-df-convert:hover {\n",
              "      background-color: #E2EBFA;\n",
              "      box-shadow: 0px 1px 2px rgba(60, 64, 67, 0.3), 0px 1px 3px 1px rgba(60, 64, 67, 0.15);\n",
              "      fill: #174EA6;\n",
              "    }\n",
              "\n",
              "    .colab-df-buttons div {\n",
              "      margin-bottom: 4px;\n",
              "    }\n",
              "\n",
              "    [theme=dark] .colab-df-convert {\n",
              "      background-color: #3B4455;\n",
              "      fill: #D2E3FC;\n",
              "    }\n",
              "\n",
              "    [theme=dark] .colab-df-convert:hover {\n",
              "      background-color: #434B5C;\n",
              "      box-shadow: 0px 1px 3px 1px rgba(0, 0, 0, 0.15);\n",
              "      filter: drop-shadow(0px 1px 2px rgba(0, 0, 0, 0.3));\n",
              "      fill: #FFFFFF;\n",
              "    }\n",
              "  </style>\n",
              "\n",
              "    <script>\n",
              "      const buttonEl =\n",
              "        document.querySelector('#df-5d274565-f08c-4bc3-9112-cb10f589192d button.colab-df-convert');\n",
              "      buttonEl.style.display =\n",
              "        google.colab.kernel.accessAllowed ? 'block' : 'none';\n",
              "\n",
              "      async function convertToInteractive(key) {\n",
              "        const element = document.querySelector('#df-5d274565-f08c-4bc3-9112-cb10f589192d');\n",
              "        const dataTable =\n",
              "          await google.colab.kernel.invokeFunction('convertToInteractive',\n",
              "                                                    [key], {});\n",
              "        if (!dataTable) return;\n",
              "\n",
              "        const docLinkHtml = 'Like what you see? Visit the ' +\n",
              "          '<a target=\"_blank\" href=https://colab.research.google.com/notebooks/data_table.ipynb>data table notebook</a>'\n",
              "          + ' to learn more about interactive tables.';\n",
              "        element.innerHTML = '';\n",
              "        dataTable['output_type'] = 'display_data';\n",
              "        await google.colab.output.renderOutput(dataTable, element);\n",
              "        const docLink = document.createElement('div');\n",
              "        docLink.innerHTML = docLinkHtml;\n",
              "        element.appendChild(docLink);\n",
              "      }\n",
              "    </script>\n",
              "  </div>\n",
              "\n",
              "\n",
              "<div id=\"df-8c43a18c-2346-41ea-a998-14544fe31282\">\n",
              "  <button class=\"colab-df-quickchart\" onclick=\"quickchart('df-8c43a18c-2346-41ea-a998-14544fe31282')\"\n",
              "            title=\"Suggest charts\"\n",
              "            style=\"display:none;\">\n",
              "\n",
              "<svg xmlns=\"http://www.w3.org/2000/svg\" height=\"24px\"viewBox=\"0 0 24 24\"\n",
              "     width=\"24px\">\n",
              "    <g>\n",
              "        <path d=\"M19 3H5c-1.1 0-2 .9-2 2v14c0 1.1.9 2 2 2h14c1.1 0 2-.9 2-2V5c0-1.1-.9-2-2-2zM9 17H7v-7h2v7zm4 0h-2V7h2v10zm4 0h-2v-4h2v4z\"/>\n",
              "    </g>\n",
              "</svg>\n",
              "  </button>\n",
              "\n",
              "<style>\n",
              "  .colab-df-quickchart {\n",
              "      --bg-color: #E8F0FE;\n",
              "      --fill-color: #1967D2;\n",
              "      --hover-bg-color: #E2EBFA;\n",
              "      --hover-fill-color: #174EA6;\n",
              "      --disabled-fill-color: #AAA;\n",
              "      --disabled-bg-color: #DDD;\n",
              "  }\n",
              "\n",
              "  [theme=dark] .colab-df-quickchart {\n",
              "      --bg-color: #3B4455;\n",
              "      --fill-color: #D2E3FC;\n",
              "      --hover-bg-color: #434B5C;\n",
              "      --hover-fill-color: #FFFFFF;\n",
              "      --disabled-bg-color: #3B4455;\n",
              "      --disabled-fill-color: #666;\n",
              "  }\n",
              "\n",
              "  .colab-df-quickchart {\n",
              "    background-color: var(--bg-color);\n",
              "    border: none;\n",
              "    border-radius: 50%;\n",
              "    cursor: pointer;\n",
              "    display: none;\n",
              "    fill: var(--fill-color);\n",
              "    height: 32px;\n",
              "    padding: 0;\n",
              "    width: 32px;\n",
              "  }\n",
              "\n",
              "  .colab-df-quickchart:hover {\n",
              "    background-color: var(--hover-bg-color);\n",
              "    box-shadow: 0 1px 2px rgba(60, 64, 67, 0.3), 0 1px 3px 1px rgba(60, 64, 67, 0.15);\n",
              "    fill: var(--button-hover-fill-color);\n",
              "  }\n",
              "\n",
              "  .colab-df-quickchart-complete:disabled,\n",
              "  .colab-df-quickchart-complete:disabled:hover {\n",
              "    background-color: var(--disabled-bg-color);\n",
              "    fill: var(--disabled-fill-color);\n",
              "    box-shadow: none;\n",
              "  }\n",
              "\n",
              "  .colab-df-spinner {\n",
              "    border: 2px solid var(--fill-color);\n",
              "    border-color: transparent;\n",
              "    border-bottom-color: var(--fill-color);\n",
              "    animation:\n",
              "      spin 1s steps(1) infinite;\n",
              "  }\n",
              "\n",
              "  @keyframes spin {\n",
              "    0% {\n",
              "      border-color: transparent;\n",
              "      border-bottom-color: var(--fill-color);\n",
              "      border-left-color: var(--fill-color);\n",
              "    }\n",
              "    20% {\n",
              "      border-color: transparent;\n",
              "      border-left-color: var(--fill-color);\n",
              "      border-top-color: var(--fill-color);\n",
              "    }\n",
              "    30% {\n",
              "      border-color: transparent;\n",
              "      border-left-color: var(--fill-color);\n",
              "      border-top-color: var(--fill-color);\n",
              "      border-right-color: var(--fill-color);\n",
              "    }\n",
              "    40% {\n",
              "      border-color: transparent;\n",
              "      border-right-color: var(--fill-color);\n",
              "      border-top-color: var(--fill-color);\n",
              "    }\n",
              "    60% {\n",
              "      border-color: transparent;\n",
              "      border-right-color: var(--fill-color);\n",
              "    }\n",
              "    80% {\n",
              "      border-color: transparent;\n",
              "      border-right-color: var(--fill-color);\n",
              "      border-bottom-color: var(--fill-color);\n",
              "    }\n",
              "    90% {\n",
              "      border-color: transparent;\n",
              "      border-bottom-color: var(--fill-color);\n",
              "    }\n",
              "  }\n",
              "</style>\n",
              "\n",
              "  <script>\n",
              "    async function quickchart(key) {\n",
              "      const quickchartButtonEl =\n",
              "        document.querySelector('#' + key + ' button');\n",
              "      quickchartButtonEl.disabled = true;  // To prevent multiple clicks.\n",
              "      quickchartButtonEl.classList.add('colab-df-spinner');\n",
              "      try {\n",
              "        const charts = await google.colab.kernel.invokeFunction(\n",
              "            'suggestCharts', [key], {});\n",
              "      } catch (error) {\n",
              "        console.error('Error during call to suggestCharts:', error);\n",
              "      }\n",
              "      quickchartButtonEl.classList.remove('colab-df-spinner');\n",
              "      quickchartButtonEl.classList.add('colab-df-quickchart-complete');\n",
              "    }\n",
              "    (() => {\n",
              "      let quickchartButtonEl =\n",
              "        document.querySelector('#df-8c43a18c-2346-41ea-a998-14544fe31282 button');\n",
              "      quickchartButtonEl.style.display =\n",
              "        google.colab.kernel.accessAllowed ? 'block' : 'none';\n",
              "    })();\n",
              "  </script>\n",
              "</div>\n",
              "    </div>\n",
              "  </div>\n"
            ]
          },
          "metadata": {},
          "execution_count": 90
        }
      ]
    },
    {
      "cell_type": "code",
      "source": [
        "df.isnull().sum()"
      ],
      "metadata": {
        "colab": {
          "base_uri": "https://localhost:8080/"
        },
        "id": "NUirALeFI1Ba",
        "outputId": "22d5b8f2-bc87-4948-cc20-6c59a207a9a7"
      },
      "execution_count": null,
      "outputs": [
        {
          "output_type": "execute_result",
          "data": {
            "text/plain": [
              "index            0\n",
              "OS_Time_Stamp    0\n",
              "Temperature      0\n",
              "Pressure         0\n",
              "Humidity         0\n",
              "TimeStamp        0\n",
              "dtype: int64"
            ]
          },
          "metadata": {},
          "execution_count": 91
        }
      ]
    },
    {
      "cell_type": "code",
      "source": [
        "df.boxplot()"
      ],
      "metadata": {
        "colab": {
          "base_uri": "https://localhost:8080/",
          "height": 462
        },
        "id": "chOZ0n7bI3KO",
        "outputId": "d3a1f76a-32bc-42c4-c337-61535627b1d7"
      },
      "execution_count": null,
      "outputs": [
        {
          "output_type": "execute_result",
          "data": {
            "text/plain": [
              "<Axes: >"
            ]
          },
          "metadata": {},
          "execution_count": 92
        },
        {
          "output_type": "display_data",
          "data": {
            "text/plain": [
              "<Figure size 640x480 with 1 Axes>"
            ],
            "image/png": "[encoded data removed]"
          },
          "metadata": {}
        }
      ]
    },
    {
      "cell_type": "code",
      "source": [
        "import seaborn as sns\n",
        "plt.figure(figsize=(12, 12))\n",
        "\n",
        "correlation_matrix = df.corr()\n",
        "\n",
        "sns.heatmap(correlation_matrix, annot=True)\n",
        "\n",
        "plt.title('Correlation Matrix')\n",
        "\n",
        "plt.show()"
      ],
      "metadata": {
        "colab": {
          "base_uri": "https://localhost:8080/",
          "height": 1000
        },
        "id": "KTXFJlU4I5PI",
        "outputId": "33a506a8-54f2-44dd-ceec-9b8c4d335dc0"
      },
      "execution_count": null,
      "outputs": [
        {
          "output_type": "stream",
          "name": "stderr",
          "text": [
            "<ipython-input-93-2bce69c0f2bb>:4: FutureWarning: The default value of numeric_only in DataFrame.corr is deprecated. In a future version, it will default to False. Select only valid columns or specify the value of numeric_only to silence this warning.\n",
            "  correlation_matrix = df.corr()\n"
          ]
        },
        {
          "output_type": "display_data",
          "data": {
            "text/plain": [
              "<Figure size 1200x1200 with 2 Axes>"
            ],
            "image/png": "[encoded data removed]"
          },
          "metadata": {}
        }
      ]
    },
    {
      "cell_type": "code",
      "source": [
        "for col in df.columns:\n",
        "    plt.hist(df[col], bins=10)\n",
        "    plt.xlabel('Value')\n",
        "    plt.ylabel('Frequency')\n",
        "    plt.title(f'Histogram of {col}')\n",
        "    plt.show()"
      ],
      "metadata": {
        "colab": {
          "base_uri": "https://localhost:8080/",
          "height": 1000
        },
        "id": "TBhZqLpoI9b2",
        "outputId": "957326d9-ce77-414d-9f97-c167185a7877"
      },
      "execution_count": null,
      "outputs": [
        {
          "output_type": "display_data",
          "data": {
            "text/plain": [
              "<Figure size 640x480 with 1 Axes>"
            ],
            "image/png": "[encoded data removed]"
          },
          "metadata": {}
        },
        {
          "output_type": "display_data",
          "data": {
            "text/plain": [
              "<Figure size 640x480 with 1 Axes>"
            ],
            "image/png": "[encoded data removed]"
          },
          "metadata": {}
        },
        {
          "output_type": "display_data",
          "data": {
            "text/plain": [
              "<Figure size 640x480 with 1 Axes>"
            ],
            "image/png": "[encoded data removed]"
          },
          "metadata": {}
        },
        {
          "output_type": "display_data",
          "data": {
            "text/plain": [
              "<Figure size 640x480 with 1 Axes>"
            ],
            "image/png": "[encoded data removed]"
          },
          "metadata": {}
        },
        {
          "output_type": "display_data",
          "data": {
            "text/plain": [
              "<Figure size 640x480 with 1 Axes>"
            ],
            "image/png": "[encoded data removed]"
          },
          "metadata": {}
        },
        {
          "output_type": "display_data",
          "data": {
            "text/plain": [
              "<Figure size 640x480 with 1 Axes>"
            ],
            "image/png": "[encoded data removed]"
          },
          "metadata": {}
        }
      ]
    },
    {
      "cell_type": "code",
      "source": [
        "x=df['Temperature']\n",
        "y=df['Pressure']"
      ],
      "metadata": {
        "id": "JPXjK-rjJYIs"
      },
      "execution_count": null,
      "outputs": []
    },
    {
      "cell_type": "code",
      "source": [
        "plt.figure(figsize=(10,6))\n",
        "plt.scatter(x,y)\n",
        "plt.show()"
      ],
      "metadata": {
        "colab": {
          "base_uri": "https://localhost:8080/",
          "height": 522
        },
        "id": "tmY6o1isJjpE",
        "outputId": "027bd9dd-6c76-4ef5-acd0-8aa58b4469ee"
      },
      "execution_count": null,
      "outputs": [
        {
          "output_type": "display_data",
          "data": {
            "text/plain": [
              "<Figure size 1000x600 with 1 Axes>"
            ],
            "image/png": "[encoded data removed]"
          },
          "metadata": {}
        }
      ]
    },
    {
      "cell_type": "code",
      "source": [
        "x_train,x_test,y_train,y_test=train_test_split(x,y,test_size=0.2,random_state=2)\n",
        "\n",
        "\n",
        "\n"
      ],
      "metadata": {
        "id": "tBjiIPXiJpwM"
      },
      "execution_count": null,
      "outputs": []
    },
    {
      "cell_type": "code",
      "source": [
        "\n",
        "regmodel=LinearRegression()\n"
      ],
      "metadata": {
        "id": "Lxk6gRHsJtVi"
      },
      "execution_count": null,
      "outputs": []
    },
    {
      "cell_type": "code",
      "source": [
        "y_train"
      ],
      "metadata": {
        "colab": {
          "base_uri": "https://localhost:8080/"
        },
        "id": "8iKFGOkdKHK4",
        "outputId": "2856a82c-70fd-4c09-ba8d-7ce893ba9822"
      },
      "execution_count": null,
      "outputs": [
        {
          "output_type": "execute_result",
          "data": {
            "text/plain": [
              "2278     997\n",
              "2303     997\n",
              "2666     994\n",
              "2353     996\n",
              "1376    1012\n",
              "        ... \n",
              "2514     994\n",
              "2347     996\n",
              "1608     997\n",
              "2541     994\n",
              "2575     994\n",
              "Name: Pressure, Length: 2302, dtype: int64"
            ]
          },
          "metadata": {},
          "execution_count": 149
        }
      ]
    },
    {
      "cell_type": "code",
      "source": [
        "import pandas as pd\n",
        "import numpy as np\n",
        "from sklearn.linear_model import LinearRegression\n",
        "\n",
        "\n",
        "\n",
        "# Convert the Series to a NumPy array\n",
        "x_train_array = x_train.values\n",
        "\n",
        "# Reshape x_train_array to have two dimensions\n",
        "x_train = x_train_array.reshape(-1, 1)\n",
        "\n",
        "# Create a linear regression model\n",
        "regmodel = LinearRegression()\n",
        "\n",
        "# Fit the model using the reshaped x_train\n",
        "regmodel.fit(x_train, y_train)\n"
      ],
      "metadata": {
        "colab": {
          "base_uri": "https://localhost:8080/",
          "height": 74
        },
        "id": "ifjUZ5-9K1vX",
        "outputId": "0bb00f27-dc94-4464-b35c-7e10b332cf3a"
      },
      "execution_count": null,
      "outputs": [
        {
          "output_type": "execute_result",
          "data": {
            "text/plain": [
              "LinearRegression()"
            ],
            "text/html": [
              "<style>#sk-container-id-4 {color: black;background-color: white;}#sk-container-id-4 pre{padding: 0;}#sk-container-id-4 div.sk-toggleable {background-color: white;}#sk-container-id-4 label.sk-toggleable__label {cursor: pointer;display: block;width: 100%;margin-bottom: 0;padding: 0.3em;box-sizing: border-box;text-align: center;}#sk-container-id-4 label.sk-toggleable__label-arrow:before {content: \"▸\";float: left;margin-right: 0.25em;color: #696969;}#sk-container-id-4 label.sk-toggleable__label-arrow:hover:before {color: black;}#sk-container-id-4 div.sk-estimator:hover label.sk-toggleable__label-arrow:before {color: black;}#sk-container-id-4 div.sk-toggleable__content {max-height: 0;max-width: 0;overflow: hidden;text-align: left;background-color: #f0f8ff;}#sk-container-id-4 div.sk-toggleable__content pre {margin: 0.2em;color: black;border-radius: 0.25em;background-color: #f0f8ff;}#sk-container-id-4 input.sk-toggleable__control:checked~div.sk-toggleable__content {max-height: 200px;max-width: 100%;overflow: auto;}#sk-container-id-4 input.sk-toggleable__control:checked~label.sk-toggleable__label-arrow:before {content: \"▾\";}#sk-container-id-4 div.sk-estimator input.sk-toggleable__control:checked~label.sk-toggleable__label {background-color: #d4ebff;}#sk-container-id-4 div.sk-label input.sk-toggleable__control:checked~label.sk-toggleable__label {background-color: #d4ebff;}#sk-container-id-4 input.sk-hidden--visually {border: 0;clip: rect(1px 1px 1px 1px);clip: rect(1px, 1px, 1px, 1px);height: 1px;margin: -1px;overflow: hidden;padding: 0;position: absolute;width: 1px;}#sk-container-id-4 div.sk-estimator {font-family: monospace;background-color: #f0f8ff;border: 1px dotted black;border-radius: 0.25em;box-sizing: border-box;margin-bottom: 0.5em;}#sk-container-id-4 div.sk-estimator:hover {background-color: #d4ebff;}#sk-container-id-4 div.sk-parallel-item::after {content: \"\";width: 100%;border-bottom: 1px solid gray;flex-grow: 1;}#sk-container-id-4 div.sk-label:hover label.sk-toggleable__label {background-color: #d4ebff;}#sk-container-id-4 div.sk-serial::before {content: \"\";position: absolute;border-left: 1px solid gray;box-sizing: border-box;top: 0;bottom: 0;left: 50%;z-index: 0;}#sk-container-id-4 div.sk-serial {display: flex;flex-direction: column;align-items: center;background-color: white;padding-right: 0.2em;padding-left: 0.2em;position: relative;}#sk-container-id-4 div.sk-item {position: relative;z-index: 1;}#sk-container-id-4 div.sk-parallel {display: flex;align-items: stretch;justify-content: center;background-color: white;position: relative;}#sk-container-id-4 div.sk-item::before, #sk-container-id-4 div.sk-parallel-item::before {content: \"\";position: absolute;border-left: 1px solid gray;box-sizing: border-box;top: 0;bottom: 0;left: 50%;z-index: -1;}#sk-container-id-4 div.sk-parallel-item {display: flex;flex-direction: column;z-index: 1;position: relative;background-color: white;}#sk-container-id-4 div.sk-parallel-item:first-child::after {align-self: flex-end;width: 50%;}#sk-container-id-4 div.sk-parallel-item:last-child::after {align-self: flex-start;width: 50%;}#sk-container-id-4 div.sk-parallel-item:only-child::after {width: 0;}#sk-container-id-4 div.sk-dashed-wrapped {border: 1px dashed gray;margin: 0 0.4em 0.5em 0.4em;box-sizing: border-box;padding-bottom: 0.4em;background-color: white;}#sk-container-id-4 div.sk-label label {font-family: monospace;font-weight: bold;display: inline-block;line-height: 1.2em;}#sk-container-id-4 div.sk-label-container {text-align: center;}#sk-container-id-4 div.sk-container {/* jupyter's `normalize.less` sets `[hidden] { display: none; }` but bootstrap.min.css set `[hidden] { display: none !important; }` so we also need the `!important` here to be able to override the default hidden behavior on the sphinx rendered scikit-learn.org. See: https://github.com/scikit-learn/scikit-learn/issues/21755 */display: inline-block !important;position: relative;}#sk-container-id-4 div.sk-text-repr-fallback {display: none;}</style><div id=\"sk-container-id-4\" class=\"sk-top-container\"><div class=\"sk-text-repr-fallback\"><pre>LinearRegression()</pre><b>In a Jupyter environment, please rerun this cell to show the HTML representation or trust the notebook. <br />On GitHub, the HTML representation is unable to render, please try loading this page with nbviewer.org.</b></div><div class=\"sk-container\" hidden><div class=\"sk-item\"><div class=\"sk-estimator sk-toggleable\"><input class=\"sk-toggleable__control sk-hidden--visually\" id=\"sk-estimator-id-4\" type=\"checkbox\" checked><label for=\"sk-estimator-id-4\" class=\"sk-toggleable__label sk-toggleable__label-arrow\">LinearRegression</label><div class=\"sk-toggleable__content\"><pre>LinearRegression()</pre></div></div></div></div></div>"
            ]
          },
          "metadata": {},
          "execution_count": 150
        }
      ]
    },
    {
      "cell_type": "code",
      "source": [
        "x_train"
      ],
      "metadata": {
        "colab": {
          "base_uri": "https://localhost:8080/"
        },
        "id": "SveJSnVng1HR",
        "outputId": "b9b54360-d3dc-42bb-fd84-1c6089a66a04"
      },
      "execution_count": null,
      "outputs": [
        {
          "output_type": "execute_result",
          "data": {
            "text/plain": [
              "array([[28],\n",
              "       [29],\n",
              "       [29],\n",
              "       ...,\n",
              "       [26],\n",
              "       [30],\n",
              "       [30]])"
            ]
          },
          "metadata": {},
          "execution_count": 151
        }
      ]
    },
    {
      "cell_type": "code",
      "source": [
        "x_test_array = x_test.values\n",
        "\n",
        "# Reshape x_train_array to have two dimensions\n",
        "x_test = x_test_array.reshape(-1, 1)"
      ],
      "metadata": {
        "id": "vnub_MIKaal1"
      },
      "execution_count": null,
      "outputs": []
    },
    {
      "cell_type": "code",
      "source": [
        "x_test"
      ],
      "metadata": {
        "colab": {
          "base_uri": "https://localhost:8080/"
        },
        "id": "mXvgZoTwgjhS",
        "outputId": "a0375821-a3a0-43ec-dcd5-38696bd599ab"
      },
      "execution_count": null,
      "outputs": [
        {
          "output_type": "execute_result",
          "data": {
            "text/plain": [
              "array([[21],\n",
              "       [30],\n",
              "       [16],\n",
              "       [23],\n",
              "       [28],\n",
              "       [24],\n",
              "       [26],\n",
              "       [30],\n",
              "       [22],\n",
              "       [26],\n",
              "       [24],\n",
              "       [22],\n",
              "       [15],\n",
              "       [29],\n",
              "       [22],\n",
              "       [28],\n",
              "       [29],\n",
              "       [30],\n",
              "       [28],\n",
              "       [15],\n",
              "       [29],\n",
              "       [16],\n",
              "       [28],\n",
              "       [23],\n",
              "       [24],\n",
              "       [21],\n",
              "       [20],\n",
              "       [28],\n",
              "       [26],\n",
              "       [21],\n",
              "       [28],\n",
              "       [22],\n",
              "       [27],\n",
              "       [15],\n",
              "       [24],\n",
              "       [23],\n",
              "       [28],\n",
              "       [29],\n",
              "       [26],\n",
              "       [29],\n",
              "       [26],\n",
              "       [26],\n",
              "       [28],\n",
              "       [21],\n",
              "       [17],\n",
              "       [21],\n",
              "       [28],\n",
              "       [16],\n",
              "       [24],\n",
              "       [28],\n",
              "       [21],\n",
              "       [28],\n",
              "       [27],\n",
              "       [15],\n",
              "       [28],\n",
              "       [17],\n",
              "       [30],\n",
              "       [29],\n",
              "       [19],\n",
              "       [29],\n",
              "       [24],\n",
              "       [28],\n",
              "       [18],\n",
              "       [19],\n",
              "       [15],\n",
              "       [17],\n",
              "       [17],\n",
              "       [30],\n",
              "       [24],\n",
              "       [29],\n",
              "       [28],\n",
              "       [19],\n",
              "       [16],\n",
              "       [23],\n",
              "       [24],\n",
              "       [23],\n",
              "       [29],\n",
              "       [31],\n",
              "       [26],\n",
              "       [19],\n",
              "       [17],\n",
              "       [20],\n",
              "       [30],\n",
              "       [30],\n",
              "       [30],\n",
              "       [15],\n",
              "       [17],\n",
              "       [26],\n",
              "       [16],\n",
              "       [29],\n",
              "       [20],\n",
              "       [30],\n",
              "       [27],\n",
              "       [29],\n",
              "       [27],\n",
              "       [26],\n",
              "       [24],\n",
              "       [28],\n",
              "       [29],\n",
              "       [17],\n",
              "       [24],\n",
              "       [24],\n",
              "       [29],\n",
              "       [16],\n",
              "       [29],\n",
              "       [27],\n",
              "       [30],\n",
              "       [17],\n",
              "       [15],\n",
              "       [30],\n",
              "       [20],\n",
              "       [30],\n",
              "       [27],\n",
              "       [20],\n",
              "       [28],\n",
              "       [24],\n",
              "       [29],\n",
              "       [21],\n",
              "       [31],\n",
              "       [31],\n",
              "       [30],\n",
              "       [27],\n",
              "       [17],\n",
              "       [18],\n",
              "       [22],\n",
              "       [24],\n",
              "       [29],\n",
              "       [24],\n",
              "       [24],\n",
              "       [23],\n",
              "       [16],\n",
              "       [30],\n",
              "       [18],\n",
              "       [26],\n",
              "       [23],\n",
              "       [26],\n",
              "       [29],\n",
              "       [22],\n",
              "       [17],\n",
              "       [26],\n",
              "       [21],\n",
              "       [28],\n",
              "       [29],\n",
              "       [24],\n",
              "       [23],\n",
              "       [15],\n",
              "       [26],\n",
              "       [26],\n",
              "       [17],\n",
              "       [16],\n",
              "       [22],\n",
              "       [29],\n",
              "       [24],\n",
              "       [19],\n",
              "       [20],\n",
              "       [27],\n",
              "       [28],\n",
              "       [27],\n",
              "       [28],\n",
              "       [15],\n",
              "       [22],\n",
              "       [16],\n",
              "       [23],\n",
              "       [26],\n",
              "       [26],\n",
              "       [24],\n",
              "       [15],\n",
              "       [28],\n",
              "       [24],\n",
              "       [16],\n",
              "       [26],\n",
              "       [24],\n",
              "       [28],\n",
              "       [27],\n",
              "       [17],\n",
              "       [21],\n",
              "       [27],\n",
              "       [16],\n",
              "       [24],\n",
              "       [24],\n",
              "       [16],\n",
              "       [30],\n",
              "       [26],\n",
              "       [24],\n",
              "       [15],\n",
              "       [28],\n",
              "       [26],\n",
              "       [16],\n",
              "       [30],\n",
              "       [27],\n",
              "       [15],\n",
              "       [16],\n",
              "       [21],\n",
              "       [26],\n",
              "       [27],\n",
              "       [26],\n",
              "       [26],\n",
              "       [24],\n",
              "       [21],\n",
              "       [21],\n",
              "       [15],\n",
              "       [20],\n",
              "       [19],\n",
              "       [20],\n",
              "       [19],\n",
              "       [26],\n",
              "       [17],\n",
              "       [15],\n",
              "       [30],\n",
              "       [29],\n",
              "       [22],\n",
              "       [23],\n",
              "       [29],\n",
              "       [28],\n",
              "       [26],\n",
              "       [29],\n",
              "       [22],\n",
              "       [26],\n",
              "       [27],\n",
              "       [15],\n",
              "       [26],\n",
              "       [26],\n",
              "       [24],\n",
              "       [27],\n",
              "       [16],\n",
              "       [24],\n",
              "       [24],\n",
              "       [15],\n",
              "       [27],\n",
              "       [23],\n",
              "       [17],\n",
              "       [18],\n",
              "       [28],\n",
              "       [16],\n",
              "       [27],\n",
              "       [16],\n",
              "       [24],\n",
              "       [23],\n",
              "       [27],\n",
              "       [29],\n",
              "       [30],\n",
              "       [28],\n",
              "       [17],\n",
              "       [27],\n",
              "       [27],\n",
              "       [16],\n",
              "       [27],\n",
              "       [29],\n",
              "       [30],\n",
              "       [26],\n",
              "       [28],\n",
              "       [28],\n",
              "       [29],\n",
              "       [24],\n",
              "       [19],\n",
              "       [18],\n",
              "       [28],\n",
              "       [30],\n",
              "       [20],\n",
              "       [26],\n",
              "       [30],\n",
              "       [30],\n",
              "       [16],\n",
              "       [24],\n",
              "       [28],\n",
              "       [21],\n",
              "       [15],\n",
              "       [29],\n",
              "       [15],\n",
              "       [18],\n",
              "       [18],\n",
              "       [16],\n",
              "       [29],\n",
              "       [28],\n",
              "       [24],\n",
              "       [28],\n",
              "       [19],\n",
              "       [23],\n",
              "       [16],\n",
              "       [26],\n",
              "       [21],\n",
              "       [23],\n",
              "       [29],\n",
              "       [28],\n",
              "       [29],\n",
              "       [16],\n",
              "       [19],\n",
              "       [26],\n",
              "       [26],\n",
              "       [21],\n",
              "       [16],\n",
              "       [22],\n",
              "       [27],\n",
              "       [30],\n",
              "       [22],\n",
              "       [29],\n",
              "       [29],\n",
              "       [15],\n",
              "       [27],\n",
              "       [22],\n",
              "       [26],\n",
              "       [21],\n",
              "       [27],\n",
              "       [27],\n",
              "       [28],\n",
              "       [29],\n",
              "       [19],\n",
              "       [22],\n",
              "       [27],\n",
              "       [28],\n",
              "       [26],\n",
              "       [26],\n",
              "       [30],\n",
              "       [15],\n",
              "       [24],\n",
              "       [26],\n",
              "       [28],\n",
              "       [26],\n",
              "       [29],\n",
              "       [17],\n",
              "       [26],\n",
              "       [24],\n",
              "       [26],\n",
              "       [22],\n",
              "       [15],\n",
              "       [28],\n",
              "       [28],\n",
              "       [26],\n",
              "       [19],\n",
              "       [30],\n",
              "       [29],\n",
              "       [18],\n",
              "       [27],\n",
              "       [16],\n",
              "       [28],\n",
              "       [18],\n",
              "       [16],\n",
              "       [26],\n",
              "       [15],\n",
              "       [17],\n",
              "       [28],\n",
              "       [23],\n",
              "       [26],\n",
              "       [15],\n",
              "       [26],\n",
              "       [26],\n",
              "       [28],\n",
              "       [27],\n",
              "       [29],\n",
              "       [24],\n",
              "       [23],\n",
              "       [15],\n",
              "       [28],\n",
              "       [26],\n",
              "       [29],\n",
              "       [24],\n",
              "       [16],\n",
              "       [27],\n",
              "       [18],\n",
              "       [19],\n",
              "       [19],\n",
              "       [15],\n",
              "       [29],\n",
              "       [26],\n",
              "       [15],\n",
              "       [26],\n",
              "       [22],\n",
              "       [19],\n",
              "       [15],\n",
              "       [19],\n",
              "       [30],\n",
              "       [25],\n",
              "       [17],\n",
              "       [22],\n",
              "       [26],\n",
              "       [29],\n",
              "       [29],\n",
              "       [16],\n",
              "       [22],\n",
              "       [20],\n",
              "       [22],\n",
              "       [22],\n",
              "       [26],\n",
              "       [20],\n",
              "       [17],\n",
              "       [15],\n",
              "       [15],\n",
              "       [24],\n",
              "       [28],\n",
              "       [27],\n",
              "       [26],\n",
              "       [15],\n",
              "       [15],\n",
              "       [24],\n",
              "       [15],\n",
              "       [26],\n",
              "       [27],\n",
              "       [21],\n",
              "       [29],\n",
              "       [29],\n",
              "       [22],\n",
              "       [30],\n",
              "       [15],\n",
              "       [29],\n",
              "       [27],\n",
              "       [21],\n",
              "       [29],\n",
              "       [29],\n",
              "       [28],\n",
              "       [21],\n",
              "       [26],\n",
              "       [16],\n",
              "       [26],\n",
              "       [26],\n",
              "       [26],\n",
              "       [17],\n",
              "       [26],\n",
              "       [19],\n",
              "       [26],\n",
              "       [15],\n",
              "       [22],\n",
              "       [15],\n",
              "       [30],\n",
              "       [29],\n",
              "       [20],\n",
              "       [26],\n",
              "       [15],\n",
              "       [27],\n",
              "       [28],\n",
              "       [20],\n",
              "       [21],\n",
              "       [22],\n",
              "       [22],\n",
              "       [21],\n",
              "       [28],\n",
              "       [26],\n",
              "       [28],\n",
              "       [26],\n",
              "       [17],\n",
              "       [22],\n",
              "       [26],\n",
              "       [22],\n",
              "       [16],\n",
              "       [28],\n",
              "       [28],\n",
              "       [29],\n",
              "       [26],\n",
              "       [26],\n",
              "       [28],\n",
              "       [22],\n",
              "       [30],\n",
              "       [21],\n",
              "       [27],\n",
              "       [20],\n",
              "       [24],\n",
              "       [20],\n",
              "       [15],\n",
              "       [26],\n",
              "       [28],\n",
              "       [26],\n",
              "       [17],\n",
              "       [16],\n",
              "       [27],\n",
              "       [29],\n",
              "       [28],\n",
              "       [26],\n",
              "       [14],\n",
              "       [21],\n",
              "       [19],\n",
              "       [21],\n",
              "       [26],\n",
              "       [15],\n",
              "       [27],\n",
              "       [24],\n",
              "       [29],\n",
              "       [17],\n",
              "       [28],\n",
              "       [26],\n",
              "       [24],\n",
              "       [17],\n",
              "       [29],\n",
              "       [22],\n",
              "       [27],\n",
              "       [15],\n",
              "       [31],\n",
              "       [30],\n",
              "       [16],\n",
              "       [29],\n",
              "       [30],\n",
              "       [20],\n",
              "       [26],\n",
              "       [27],\n",
              "       [26],\n",
              "       [15],\n",
              "       [26],\n",
              "       [24],\n",
              "       [30],\n",
              "       [19],\n",
              "       [24],\n",
              "       [15],\n",
              "       [26],\n",
              "       [28],\n",
              "       [30],\n",
              "       [29],\n",
              "       [17],\n",
              "       [26],\n",
              "       [15],\n",
              "       [15],\n",
              "       [28],\n",
              "       [30],\n",
              "       [16],\n",
              "       [29],\n",
              "       [26],\n",
              "       [17],\n",
              "       [28],\n",
              "       [15],\n",
              "       [27],\n",
              "       [17],\n",
              "       [26],\n",
              "       [23],\n",
              "       [31],\n",
              "       [29],\n",
              "       [19],\n",
              "       [23],\n",
              "       [24],\n",
              "       [30],\n",
              "       [28],\n",
              "       [23],\n",
              "       [27],\n",
              "       [26],\n",
              "       [27],\n",
              "       [29],\n",
              "       [30],\n",
              "       [26],\n",
              "       [29],\n",
              "       [14],\n",
              "       [24],\n",
              "       [30],\n",
              "       [26],\n",
              "       [24],\n",
              "       [24],\n",
              "       [27],\n",
              "       [29],\n",
              "       [15],\n",
              "       [30],\n",
              "       [27],\n",
              "       [23],\n",
              "       [30],\n",
              "       [14],\n",
              "       [16],\n",
              "       [17],\n",
              "       [30],\n",
              "       [27],\n",
              "       [30],\n",
              "       [24],\n",
              "       [24],\n",
              "       [15],\n",
              "       [22],\n",
              "       [24],\n",
              "       [30],\n",
              "       [30],\n",
              "       [28],\n",
              "       [15],\n",
              "       [30],\n",
              "       [28],\n",
              "       [29],\n",
              "       [29],\n",
              "       [28],\n",
              "       [28],\n",
              "       [28],\n",
              "       [27],\n",
              "       [26],\n",
              "       [26],\n",
              "       [28],\n",
              "       [22],\n",
              "       [26]])"
            ]
          },
          "metadata": {},
          "execution_count": 153
        }
      ]
    },
    {
      "cell_type": "code",
      "source": [
        "from sklearn.metrics import r2_score\n",
        "score1=r2_score(y_test,regmodel.predict(x_test))\n",
        "print(score1)"
      ],
      "metadata": {
        "colab": {
          "base_uri": "https://localhost:8080/"
        },
        "id": "cIu-5ZjOJvL-",
        "outputId": "6b8477c4-db19-4605-e2fa-40c0ce238de8"
      },
      "execution_count": null,
      "outputs": [
        {
          "output_type": "stream",
          "name": "stdout",
          "text": [
            "0.5476255197372739\n"
          ]
        }
      ]
    },
    {
      "cell_type": "code",
      "source": [
        "plt.plot(x_train,regmodel.predict(x_train),color='r')\n",
        "plt.scatter(x_train,y_train)\n",
        "plt.xlabel('x values')\n",
        "plt.ylabel('y valuess')"
      ],
      "metadata": {
        "colab": {
          "base_uri": "https://localhost:8080/",
          "height": 466
        },
        "id": "UsrwxebtaHOM",
        "outputId": "ca2425ac-16e3-4955-b2e0-d7a8e701b5a4"
      },
      "execution_count": null,
      "outputs": [
        {
          "output_type": "execute_result",
          "data": {
            "text/plain": [
              "Text(0, 0.5, 'y valuess')"
            ]
          },
          "metadata": {},
          "execution_count": 155
        },
        {
          "output_type": "display_data",
          "data": {
            "text/plain": [
              "<Figure size 640x480 with 1 Axes>"
            ],
            "image/png": "[encoded data removed]"
          },
          "metadata": {}
        }
      ]
    },
    {
      "cell_type": "code",
      "source": [
        "from sklearn.preprocessing import PolynomialFeatures\n",
        "p=PolynomialFeatures(degree=2,include_bias=True)\n",
        "x_train_p=p.fit_transform(x_train)\n",
        "x_test_p=p.transform(x_test)"
      ],
      "metadata": {
        "id": "pjt5cuovJw1f"
      },
      "execution_count": null,
      "outputs": []
    },
    {
      "cell_type": "code",
      "source": [
        "\n",
        "x_train_p"
      ],
      "metadata": {
        "colab": {
          "base_uri": "https://localhost:8080/"
        },
        "id": "XTW5j1VOanrQ",
        "outputId": "801e19a3-ef10-46f8-ba0a-8d9a4f8aa8ce"
      },
      "execution_count": null,
      "outputs": [
        {
          "output_type": "execute_result",
          "data": {
            "text/plain": [
              "array([[  1.,  28., 784.],\n",
              "       [  1.,  29., 841.],\n",
              "       [  1.,  29., 841.],\n",
              "       ...,\n",
              "       [  1.,  26., 676.],\n",
              "       [  1.,  30., 900.],\n",
              "       [  1.,  30., 900.]])"
            ]
          },
          "metadata": {},
          "execution_count": 157
        }
      ]
    },
    {
      "cell_type": "code",
      "source": [
        "remodel2=LinearRegression()"
      ],
      "metadata": {
        "id": "3K9PlTkxaqQX"
      },
      "execution_count": null,
      "outputs": []
    },
    {
      "cell_type": "code",
      "source": [
        "\n",
        "\n",
        "remodel2.fit(x_train_p,y_train)\n",
        "y_predict2=remodel2.predict(x_test_p)\n",
        "score2=r2_score(y_test,y_predict2)\n",
        "print(score2)"
      ],
      "metadata": {
        "colab": {
          "base_uri": "https://localhost:8080/"
        },
        "id": "1xl0JtwIbt2J",
        "outputId": "ae759366-5c1b-49df-c090-75c5905b5ae8"
      },
      "execution_count": null,
      "outputs": [
        {
          "output_type": "stream",
          "name": "stdout",
          "text": [
            "0.6091149481109623\n"
          ]
        }
      ]
    },
    {
      "cell_type": "code",
      "source": [
        "\n",
        "print(remodel2.coef_)"
      ],
      "metadata": {
        "colab": {
          "base_uri": "https://localhost:8080/"
        },
        "id": "wb4IbQUlbvi7",
        "outputId": "982da500-e6a4-4afc-8423-c0e3e4021651"
      },
      "execution_count": null,
      "outputs": [
        {
          "output_type": "stream",
          "name": "stdout",
          "text": [
            "[ 0.          3.60411055 -0.10840343]\n"
          ]
        }
      ]
    },
    {
      "cell_type": "code",
      "source": [
        "\n",
        "plt.scatter(x_train,remodel2.predict(x_train_p),color='pink')\n",
        "plt.scatter(x_train,y_train)\n",
        "plt.xlabel('x values')\n",
        "plt.ylabel('y valuess')"
      ],
      "metadata": {
        "colab": {
          "base_uri": "https://localhost:8080/",
          "height": 466
        },
        "id": "QOl1oVYecHDy",
        "outputId": "f836a259-bee8-4c39-caeb-ca5539536949"
      },
      "execution_count": null,
      "outputs": [
        {
          "output_type": "execute_result",
          "data": {
            "text/plain": [
              "Text(0, 0.5, 'y valuess')"
            ]
          },
          "metadata": {},
          "execution_count": 161
        },
        {
          "output_type": "display_data",
          "data": {
            "text/plain": [
              "<Figure size 640x480 with 1 Axes>"
            ],
            "image/png": "[encoded data removed]"
          },
          "metadata": {}
        }
      ]
    },
    {
      "cell_type": "code",
      "source": [
        "x_train,x_test,y_train,y_test=train_test_split(x,y,test_size=0.3,random_state=2)\n",
        "x_train_array = x_train.values\n",
        "\n",
        "# Reshape x_train_array to have two dimensions\n",
        "x_train = x_train_array.reshape(-1, 1)\n",
        "x_test_array = x_test.values\n",
        "\n",
        "# Reshape x_train_array to have two dimensions\n",
        "x_test = x_test_array.reshape(-1, 1)"
      ],
      "metadata": {
        "id": "2nelQaBgdyHG"
      },
      "execution_count": null,
      "outputs": []
    },
    {
      "cell_type": "code",
      "source": [
        "x_train"
      ],
      "metadata": {
        "colab": {
          "base_uri": "https://localhost:8080/"
        },
        "id": "DrTWT27RgF41",
        "outputId": "96a74c3d-e75a-4134-b7cd-da2e5892338b"
      },
      "execution_count": null,
      "outputs": [
        {
          "output_type": "execute_result",
          "data": {
            "text/plain": [
              "array([[23],\n",
              "       [28],\n",
              "       [24],\n",
              "       ...,\n",
              "       [26],\n",
              "       [30],\n",
              "       [30]])"
            ]
          },
          "metadata": {},
          "execution_count": 163
        }
      ]
    },
    {
      "cell_type": "code",
      "source": [
        "from sklearn.preprocessing import PolynomialFeatures\n",
        "v=PolynomialFeatures(degree=3,include_bias=True)\n",
        "x_train_v=v.fit_transform(x_train)\n",
        "x_test_v=v.transform(x_test)"
      ],
      "metadata": {
        "id": "5P1ySdVScI0n"
      },
      "execution_count": null,
      "outputs": []
    },
    {
      "cell_type": "code",
      "source": [
        "remodel3=LinearRegression()"
      ],
      "metadata": {
        "id": "R80jK0qacT4V"
      },
      "execution_count": null,
      "outputs": []
    },
    {
      "cell_type": "code",
      "source": [
        "remodel3.fit(x_train_v,y_train)\n",
        "y_predict3=remodel3.predict(x_test_v)\n",
        "score3=r2_score(y_test,y_predict3)\n",
        "print(score3)"
      ],
      "metadata": {
        "colab": {
          "base_uri": "https://localhost:8080/"
        },
        "id": "dAjOO364cVeJ",
        "outputId": "23d6c260-1303-468f-c96c-291b8f4783e8"
      },
      "execution_count": null,
      "outputs": [
        {
          "output_type": "stream",
          "name": "stdout",
          "text": [
            "0.6321285259780014\n"
          ]
        }
      ]
    },
    {
      "cell_type": "code",
      "source": [
        "\n",
        "print(remodel3.coef_)"
      ],
      "metadata": {
        "colab": {
          "base_uri": "https://localhost:8080/"
        },
        "id": "ce2sO852cW9u",
        "outputId": "6e4db1fc-af29-4762-fd5d-60ee84c01115"
      },
      "execution_count": null,
      "outputs": [
        {
          "output_type": "stream",
          "name": "stdout",
          "text": [
            "[ 0.00000000e+00  2.35974501e+01 -1.02010294e+00  1.34628505e-02]\n"
          ]
        }
      ]
    },
    {
      "cell_type": "code",
      "source": [
        "\n",
        "plt.scatter(x_train,remodel3.predict(x_train_v),color='pink')\n",
        "plt.scatter(x_train,y_train)\n",
        "plt.xlabel('x values')\n",
        "plt.ylabel('y valuess')"
      ],
      "metadata": {
        "colab": {
          "base_uri": "https://localhost:8080/",
          "height": 466
        },
        "id": "bJVaONZscYX1",
        "outputId": "bcd5a32f-19e3-40eb-a394-1ac90ae6cc2d"
      },
      "execution_count": null,
      "outputs": [
        {
          "output_type": "execute_result",
          "data": {
            "text/plain": [
              "Text(0, 0.5, 'y valuess')"
            ]
          },
          "metadata": {},
          "execution_count": 168
        },
        {
          "output_type": "display_data",
          "data": {
            "text/plain": [
              "<Figure size 640x480 with 1 Axes>"
            ],
            "image/png": "[encoded data removed]"
          },
          "metadata": {}
        }
      ]
    },
    {
      "cell_type": "code",
      "source": [
        "\n",
        "from sklearn.preprocessing import PolynomialFeatures\n",
        "q=PolynomialFeatures(degree=4,include_bias=True)\n",
        "x_train_q=q.fit_transform(x_train)\n",
        "x_test_q=q.transform(x_test)"
      ],
      "metadata": {
        "id": "opH3uCQAcZ_J"
      },
      "execution_count": null,
      "outputs": []
    },
    {
      "cell_type": "code",
      "source": [
        "\n",
        "remodel4=LinearRegression()"
      ],
      "metadata": {
        "id": "cq6_gnjNcjO4"
      },
      "execution_count": null,
      "outputs": []
    },
    {
      "cell_type": "code",
      "source": [
        "\n",
        "\n",
        "remodel4.fit(x_train_q,y_train)\n",
        "y_predict4=remodel4.predict(x_test_q)\n",
        "score4=r2_score(y_test,y_predict4)\n",
        "print(score4)"
      ],
      "metadata": {
        "colab": {
          "base_uri": "https://localhost:8080/"
        },
        "id": "BMy4eKxdckoF",
        "outputId": "68ea1eb5-2037-437f-b50f-009515ebae35"
      },
      "execution_count": null,
      "outputs": [
        {
          "output_type": "stream",
          "name": "stdout",
          "text": [
            "0.6590033882861412\n"
          ]
        }
      ]
    },
    {
      "cell_type": "code",
      "source": [
        "print(remodel4.coef_)"
      ],
      "metadata": {
        "colab": {
          "base_uri": "https://localhost:8080/"
        },
        "id": "oooHOEDKcmFk",
        "outputId": "fdf5ce72-2f38-41e2-f4eb-ea83835f7911"
      },
      "execution_count": null,
      "outputs": [
        {
          "output_type": "stream",
          "name": "stdout",
          "text": [
            "[ 0.00000000e+00 -1.61311249e+02  1.18002913e+01 -3.73150238e-01\n",
            "  4.28604328e-03]\n"
          ]
        }
      ]
    },
    {
      "cell_type": "code",
      "source": [
        "x_train"
      ],
      "metadata": {
        "colab": {
          "base_uri": "https://localhost:8080/"
        },
        "id": "6pF16p3mf3yg",
        "outputId": "b9a40bad-c006-4daf-80fa-5d4ff62d059a"
      },
      "execution_count": null,
      "outputs": [
        {
          "output_type": "execute_result",
          "data": {
            "text/plain": [
              "array([[23],\n",
              "       [28],\n",
              "       [24],\n",
              "       ...,\n",
              "       [26],\n",
              "       [30],\n",
              "       [30]])"
            ]
          },
          "metadata": {},
          "execution_count": 173
        }
      ]
    },
    {
      "cell_type": "code",
      "source": [
        "x_train_q"
      ],
      "metadata": {
        "colab": {
          "base_uri": "https://localhost:8080/"
        },
        "id": "e5iQrrLpmvyo",
        "outputId": "b6c1abe0-8804-4374-957c-eeb3a6aa5451"
      },
      "execution_count": null,
      "outputs": [
        {
          "output_type": "execute_result",
          "data": {
            "text/plain": [
              "array([[1.00000e+00, 2.30000e+01, 5.29000e+02, 1.21670e+04, 2.79841e+05],\n",
              "       [1.00000e+00, 2.80000e+01, 7.84000e+02, 2.19520e+04, 6.14656e+05],\n",
              "       [1.00000e+00, 2.40000e+01, 5.76000e+02, 1.38240e+04, 3.31776e+05],\n",
              "       ...,\n",
              "       [1.00000e+00, 2.60000e+01, 6.76000e+02, 1.75760e+04, 4.56976e+05],\n",
              "       [1.00000e+00, 3.00000e+01, 9.00000e+02, 2.70000e+04, 8.10000e+05],\n",
              "       [1.00000e+00, 3.00000e+01, 9.00000e+02, 2.70000e+04, 8.10000e+05]])"
            ]
          },
          "metadata": {},
          "execution_count": 178
        }
      ]
    },
    {
      "cell_type": "code",
      "source": [
        "n = len(y_test)\n",
        "\n",
        "mse = sum((y_test - y_predict4) ** 2) / n\n",
        "print(f\"Mean Squared Error (MSE): {mse}\")\n",
        "\n",
        "\n",
        "mae = sum(abs(y_test - y_predict4)) / n\n",
        "print(f\"Mean Absolute Error (MAE): {mae}\")"
      ],
      "metadata": {
        "id": "33p7HV8UobpJ",
        "outputId": "c9717496-975c-4c49-e13b-a210d1efdf4c",
        "colab": {
          "base_uri": "https://localhost:8080/",
          "height": 390
        }
      },
      "execution_count": null,
      "outputs": [
        {
          "output_type": "error",
          "ename": "ValueError",
          "evalue": "ignored",
          "traceback": [
            "\u001b[0;31m---------------------------------------------------------------------------\u001b[0m",
            "\u001b[0;31mValueError\u001b[0m                                Traceback (most recent call last)",
            "\u001b[0;32m<ipython-input-202-16b252248022>\u001b[0m in \u001b[0;36m<cell line: 3>\u001b[0;34m()\u001b[0m\n\u001b[1;32m      1\u001b[0m \u001b[0mn\u001b[0m \u001b[0;34m=\u001b[0m \u001b[0mlen\u001b[0m\u001b[0;34m(\u001b[0m\u001b[0my_test\u001b[0m\u001b[0;34m)\u001b[0m\u001b[0;34m\u001b[0m\u001b[0;34m\u001b[0m\u001b[0m\n\u001b[1;32m      2\u001b[0m \u001b[0;34m\u001b[0m\u001b[0m\n\u001b[0;32m----> 3\u001b[0;31m \u001b[0mmse\u001b[0m \u001b[0;34m=\u001b[0m \u001b[0msum\u001b[0m\u001b[0;34m(\u001b[0m\u001b[0;34m(\u001b[0m\u001b[0my_test\u001b[0m \u001b[0;34m-\u001b[0m \u001b[0my_predict4\u001b[0m\u001b[0;34m)\u001b[0m \u001b[0;34m**\u001b[0m \u001b[0;36m2\u001b[0m\u001b[0;34m)\u001b[0m \u001b[0;34m/\u001b[0m \u001b[0mn\u001b[0m\u001b[0;34m\u001b[0m\u001b[0;34m\u001b[0m\u001b[0m\n\u001b[0m\u001b[1;32m      4\u001b[0m \u001b[0mprint\u001b[0m\u001b[0;34m(\u001b[0m\u001b[0;34mf\"Mean Squared Error (MSE): {mse}\"\u001b[0m\u001b[0;34m)\u001b[0m\u001b[0;34m\u001b[0m\u001b[0;34m\u001b[0m\u001b[0m\n\u001b[1;32m      5\u001b[0m \u001b[0;34m\u001b[0m\u001b[0m\n",
            "\u001b[0;32m/usr/local/lib/python3.10/dist-packages/pandas/core/ops/common.py\u001b[0m in \u001b[0;36mnew_method\u001b[0;34m(self, other)\u001b[0m\n\u001b[1;32m     70\u001b[0m         \u001b[0mother\u001b[0m \u001b[0;34m=\u001b[0m \u001b[0mitem_from_zerodim\u001b[0m\u001b[0;34m(\u001b[0m\u001b[0mother\u001b[0m\u001b[0;34m)\u001b[0m\u001b[0;34m\u001b[0m\u001b[0;34m\u001b[0m\u001b[0m\n\u001b[1;32m     71\u001b[0m \u001b[0;34m\u001b[0m\u001b[0m\n\u001b[0;32m---> 72\u001b[0;31m         \u001b[0;32mreturn\u001b[0m \u001b[0mmethod\u001b[0m\u001b[0;34m(\u001b[0m\u001b[0mself\u001b[0m\u001b[0;34m,\u001b[0m \u001b[0mother\u001b[0m\u001b[0;34m)\u001b[0m\u001b[0;34m\u001b[0m\u001b[0;34m\u001b[0m\u001b[0m\n\u001b[0m\u001b[1;32m     73\u001b[0m \u001b[0;34m\u001b[0m\u001b[0m\n\u001b[1;32m     74\u001b[0m     \u001b[0;32mreturn\u001b[0m \u001b[0mnew_method\u001b[0m\u001b[0;34m\u001b[0m\u001b[0;34m\u001b[0m\u001b[0m\n",
            "\u001b[0;32m/usr/local/lib/python3.10/dist-packages/pandas/core/arraylike.py\u001b[0m in \u001b[0;36m__sub__\u001b[0;34m(self, other)\u001b[0m\n\u001b[1;32m    108\u001b[0m     \u001b[0;34m@\u001b[0m\u001b[0munpack_zerodim_and_defer\u001b[0m\u001b[0;34m(\u001b[0m\u001b[0;34m\"__sub__\"\u001b[0m\u001b[0;34m)\u001b[0m\u001b[0;34m\u001b[0m\u001b[0;34m\u001b[0m\u001b[0m\n\u001b[1;32m    109\u001b[0m     \u001b[0;32mdef\u001b[0m \u001b[0m__sub__\u001b[0m\u001b[0;34m(\u001b[0m\u001b[0mself\u001b[0m\u001b[0;34m,\u001b[0m \u001b[0mother\u001b[0m\u001b[0;34m)\u001b[0m\u001b[0;34m:\u001b[0m\u001b[0;34m\u001b[0m\u001b[0;34m\u001b[0m\u001b[0m\n\u001b[0;32m--> 110\u001b[0;31m         \u001b[0;32mreturn\u001b[0m \u001b[0mself\u001b[0m\u001b[0;34m.\u001b[0m\u001b[0m_arith_method\u001b[0m\u001b[0;34m(\u001b[0m\u001b[0mother\u001b[0m\u001b[0;34m,\u001b[0m \u001b[0moperator\u001b[0m\u001b[0;34m.\u001b[0m\u001b[0msub\u001b[0m\u001b[0;34m)\u001b[0m\u001b[0;34m\u001b[0m\u001b[0;34m\u001b[0m\u001b[0m\n\u001b[0m\u001b[1;32m    111\u001b[0m \u001b[0;34m\u001b[0m\u001b[0m\n\u001b[1;32m    112\u001b[0m     \u001b[0;34m@\u001b[0m\u001b[0munpack_zerodim_and_defer\u001b[0m\u001b[0;34m(\u001b[0m\u001b[0;34m\"__rsub__\"\u001b[0m\u001b[0;34m)\u001b[0m\u001b[0;34m\u001b[0m\u001b[0;34m\u001b[0m\u001b[0m\n",
            "\u001b[0;32m/usr/local/lib/python3.10/dist-packages/pandas/core/series.py\u001b[0m in \u001b[0;36m_arith_method\u001b[0;34m(self, other, op)\u001b[0m\n\u001b[1;32m   6257\u001b[0m     \u001b[0;32mdef\u001b[0m \u001b[0m_arith_method\u001b[0m\u001b[0;34m(\u001b[0m\u001b[0mself\u001b[0m\u001b[0;34m,\u001b[0m \u001b[0mother\u001b[0m\u001b[0;34m,\u001b[0m \u001b[0mop\u001b[0m\u001b[0;34m)\u001b[0m\u001b[0;34m:\u001b[0m\u001b[0;34m\u001b[0m\u001b[0;34m\u001b[0m\u001b[0m\n\u001b[1;32m   6258\u001b[0m         \u001b[0mself\u001b[0m\u001b[0;34m,\u001b[0m \u001b[0mother\u001b[0m \u001b[0;34m=\u001b[0m \u001b[0mops\u001b[0m\u001b[0;34m.\u001b[0m\u001b[0malign_method_SERIES\u001b[0m\u001b[0;34m(\u001b[0m\u001b[0mself\u001b[0m\u001b[0;34m,\u001b[0m \u001b[0mother\u001b[0m\u001b[0;34m)\u001b[0m\u001b[0;34m\u001b[0m\u001b[0;34m\u001b[0m\u001b[0m\n\u001b[0;32m-> 6259\u001b[0;31m         \u001b[0;32mreturn\u001b[0m \u001b[0mbase\u001b[0m\u001b[0;34m.\u001b[0m\u001b[0mIndexOpsMixin\u001b[0m\u001b[0;34m.\u001b[0m\u001b[0m_arith_method\u001b[0m\u001b[0;34m(\u001b[0m\u001b[0mself\u001b[0m\u001b[0;34m,\u001b[0m \u001b[0mother\u001b[0m\u001b[0;34m,\u001b[0m \u001b[0mop\u001b[0m\u001b[0;34m)\u001b[0m\u001b[0;34m\u001b[0m\u001b[0;34m\u001b[0m\u001b[0m\n\u001b[0m\u001b[1;32m   6260\u001b[0m \u001b[0;34m\u001b[0m\u001b[0m\n\u001b[1;32m   6261\u001b[0m \u001b[0;34m\u001b[0m\u001b[0m\n",
            "\u001b[0;32m/usr/local/lib/python3.10/dist-packages/pandas/core/base.py\u001b[0m in \u001b[0;36m_arith_method\u001b[0;34m(self, other, op)\u001b[0m\n\u001b[1;32m   1323\u001b[0m \u001b[0;34m\u001b[0m\u001b[0m\n\u001b[1;32m   1324\u001b[0m         \u001b[0;32mwith\u001b[0m \u001b[0mnp\u001b[0m\u001b[0;34m.\u001b[0m\u001b[0merrstate\u001b[0m\u001b[0;34m(\u001b[0m\u001b[0mall\u001b[0m\u001b[0;34m=\u001b[0m\u001b[0;34m\"ignore\"\u001b[0m\u001b[0;34m)\u001b[0m\u001b[0;34m:\u001b[0m\u001b[0;34m\u001b[0m\u001b[0;34m\u001b[0m\u001b[0m\n\u001b[0;32m-> 1325\u001b[0;31m             \u001b[0mresult\u001b[0m \u001b[0;34m=\u001b[0m \u001b[0mops\u001b[0m\u001b[0;34m.\u001b[0m\u001b[0marithmetic_op\u001b[0m\u001b[0;34m(\u001b[0m\u001b[0mlvalues\u001b[0m\u001b[0;34m,\u001b[0m \u001b[0mrvalues\u001b[0m\u001b[0;34m,\u001b[0m \u001b[0mop\u001b[0m\u001b[0;34m)\u001b[0m\u001b[0;34m\u001b[0m\u001b[0;34m\u001b[0m\u001b[0m\n\u001b[0m\u001b[1;32m   1326\u001b[0m \u001b[0;34m\u001b[0m\u001b[0m\n\u001b[1;32m   1327\u001b[0m         \u001b[0;32mreturn\u001b[0m \u001b[0mself\u001b[0m\u001b[0;34m.\u001b[0m\u001b[0m_construct_result\u001b[0m\u001b[0;34m(\u001b[0m\u001b[0mresult\u001b[0m\u001b[0;34m,\u001b[0m \u001b[0mname\u001b[0m\u001b[0;34m=\u001b[0m\u001b[0mres_name\u001b[0m\u001b[0;34m)\u001b[0m\u001b[0;34m\u001b[0m\u001b[0;34m\u001b[0m\u001b[0m\n",
            "\u001b[0;32m/usr/local/lib/python3.10/dist-packages/pandas/core/ops/array_ops.py\u001b[0m in \u001b[0;36marithmetic_op\u001b[0;34m(left, right, op)\u001b[0m\n\u001b[1;32m    224\u001b[0m         \u001b[0;31m# error: Argument 1 to \"_na_arithmetic_op\" has incompatible type\u001b[0m\u001b[0;34m\u001b[0m\u001b[0;34m\u001b[0m\u001b[0m\n\u001b[1;32m    225\u001b[0m         \u001b[0;31m# \"Union[ExtensionArray, ndarray[Any, Any]]\"; expected \"ndarray[Any, Any]\"\u001b[0m\u001b[0;34m\u001b[0m\u001b[0;34m\u001b[0m\u001b[0m\n\u001b[0;32m--> 226\u001b[0;31m         \u001b[0mres_values\u001b[0m \u001b[0;34m=\u001b[0m \u001b[0m_na_arithmetic_op\u001b[0m\u001b[0;34m(\u001b[0m\u001b[0mleft\u001b[0m\u001b[0;34m,\u001b[0m \u001b[0mright\u001b[0m\u001b[0;34m,\u001b[0m \u001b[0mop\u001b[0m\u001b[0;34m)\u001b[0m  \u001b[0;31m# type: ignore[arg-type]\u001b[0m\u001b[0;34m\u001b[0m\u001b[0;34m\u001b[0m\u001b[0m\n\u001b[0m\u001b[1;32m    227\u001b[0m \u001b[0;34m\u001b[0m\u001b[0m\n\u001b[1;32m    228\u001b[0m     \u001b[0;32mreturn\u001b[0m \u001b[0mres_values\u001b[0m\u001b[0;34m\u001b[0m\u001b[0;34m\u001b[0m\u001b[0m\n",
            "\u001b[0;32m/usr/local/lib/python3.10/dist-packages/pandas/core/ops/array_ops.py\u001b[0m in \u001b[0;36m_na_arithmetic_op\u001b[0;34m(left, right, op, is_cmp)\u001b[0m\n\u001b[1;32m    163\u001b[0m \u001b[0;34m\u001b[0m\u001b[0m\n\u001b[1;32m    164\u001b[0m     \u001b[0;32mtry\u001b[0m\u001b[0;34m:\u001b[0m\u001b[0;34m\u001b[0m\u001b[0;34m\u001b[0m\u001b[0m\n\u001b[0;32m--> 165\u001b[0;31m         \u001b[0mresult\u001b[0m \u001b[0;34m=\u001b[0m \u001b[0mfunc\u001b[0m\u001b[0;34m(\u001b[0m\u001b[0mleft\u001b[0m\u001b[0;34m,\u001b[0m \u001b[0mright\u001b[0m\u001b[0;34m)\u001b[0m\u001b[0;34m\u001b[0m\u001b[0;34m\u001b[0m\u001b[0m\n\u001b[0m\u001b[1;32m    166\u001b[0m     \u001b[0;32mexcept\u001b[0m \u001b[0mTypeError\u001b[0m\u001b[0;34m:\u001b[0m\u001b[0;34m\u001b[0m\u001b[0;34m\u001b[0m\u001b[0m\n\u001b[1;32m    167\u001b[0m         \u001b[0;32mif\u001b[0m \u001b[0;32mnot\u001b[0m \u001b[0mis_cmp\u001b[0m \u001b[0;32mand\u001b[0m \u001b[0;34m(\u001b[0m\u001b[0mis_object_dtype\u001b[0m\u001b[0;34m(\u001b[0m\u001b[0mleft\u001b[0m\u001b[0;34m.\u001b[0m\u001b[0mdtype\u001b[0m\u001b[0;34m)\u001b[0m \u001b[0;32mor\u001b[0m \u001b[0mis_object_dtype\u001b[0m\u001b[0;34m(\u001b[0m\u001b[0mright\u001b[0m\u001b[0;34m)\u001b[0m\u001b[0;34m)\u001b[0m\u001b[0;34m:\u001b[0m\u001b[0;34m\u001b[0m\u001b[0;34m\u001b[0m\u001b[0m\n",
            "\u001b[0;32m/usr/local/lib/python3.10/dist-packages/pandas/core/computation/expressions.py\u001b[0m in \u001b[0;36mevaluate\u001b[0;34m(op, a, b, use_numexpr)\u001b[0m\n\u001b[1;32m    239\u001b[0m         \u001b[0;32mif\u001b[0m \u001b[0muse_numexpr\u001b[0m\u001b[0;34m:\u001b[0m\u001b[0;34m\u001b[0m\u001b[0;34m\u001b[0m\u001b[0m\n\u001b[1;32m    240\u001b[0m             \u001b[0;31m# error: \"None\" not callable\u001b[0m\u001b[0;34m\u001b[0m\u001b[0;34m\u001b[0m\u001b[0m\n\u001b[0;32m--> 241\u001b[0;31m             \u001b[0;32mreturn\u001b[0m \u001b[0m_evaluate\u001b[0m\u001b[0;34m(\u001b[0m\u001b[0mop\u001b[0m\u001b[0;34m,\u001b[0m \u001b[0mop_str\u001b[0m\u001b[0;34m,\u001b[0m \u001b[0ma\u001b[0m\u001b[0;34m,\u001b[0m \u001b[0mb\u001b[0m\u001b[0;34m)\u001b[0m  \u001b[0;31m# type: ignore[misc]\u001b[0m\u001b[0;34m\u001b[0m\u001b[0;34m\u001b[0m\u001b[0m\n\u001b[0m\u001b[1;32m    242\u001b[0m     \u001b[0;32mreturn\u001b[0m \u001b[0m_evaluate_standard\u001b[0m\u001b[0;34m(\u001b[0m\u001b[0mop\u001b[0m\u001b[0;34m,\u001b[0m \u001b[0mop_str\u001b[0m\u001b[0;34m,\u001b[0m \u001b[0ma\u001b[0m\u001b[0;34m,\u001b[0m \u001b[0mb\u001b[0m\u001b[0;34m)\u001b[0m\u001b[0;34m\u001b[0m\u001b[0;34m\u001b[0m\u001b[0m\n\u001b[1;32m    243\u001b[0m \u001b[0;34m\u001b[0m\u001b[0m\n",
            "\u001b[0;32m/usr/local/lib/python3.10/dist-packages/pandas/core/computation/expressions.py\u001b[0m in \u001b[0;36m_evaluate_numexpr\u001b[0;34m(op, op_str, a, b)\u001b[0m\n\u001b[1;32m    127\u001b[0m \u001b[0;34m\u001b[0m\u001b[0m\n\u001b[1;32m    128\u001b[0m     \u001b[0;32mif\u001b[0m \u001b[0mresult\u001b[0m \u001b[0;32mis\u001b[0m \u001b[0;32mNone\u001b[0m\u001b[0;34m:\u001b[0m\u001b[0;34m\u001b[0m\u001b[0;34m\u001b[0m\u001b[0m\n\u001b[0;32m--> 129\u001b[0;31m         \u001b[0mresult\u001b[0m \u001b[0;34m=\u001b[0m \u001b[0m_evaluate_standard\u001b[0m\u001b[0;34m(\u001b[0m\u001b[0mop\u001b[0m\u001b[0;34m,\u001b[0m \u001b[0mop_str\u001b[0m\u001b[0;34m,\u001b[0m \u001b[0ma\u001b[0m\u001b[0;34m,\u001b[0m \u001b[0mb\u001b[0m\u001b[0;34m)\u001b[0m\u001b[0;34m\u001b[0m\u001b[0;34m\u001b[0m\u001b[0m\n\u001b[0m\u001b[1;32m    130\u001b[0m \u001b[0;34m\u001b[0m\u001b[0m\n\u001b[1;32m    131\u001b[0m     \u001b[0;32mreturn\u001b[0m \u001b[0mresult\u001b[0m\u001b[0;34m\u001b[0m\u001b[0;34m\u001b[0m\u001b[0m\n",
            "\u001b[0;32m/usr/local/lib/python3.10/dist-packages/pandas/core/computation/expressions.py\u001b[0m in \u001b[0;36m_evaluate_standard\u001b[0;34m(op, op_str, a, b)\u001b[0m\n\u001b[1;32m     68\u001b[0m     \u001b[0;32mif\u001b[0m \u001b[0m_TEST_MODE\u001b[0m\u001b[0;34m:\u001b[0m\u001b[0;34m\u001b[0m\u001b[0;34m\u001b[0m\u001b[0m\n\u001b[1;32m     69\u001b[0m         \u001b[0m_store_test_result\u001b[0m\u001b[0;34m(\u001b[0m\u001b[0;32mFalse\u001b[0m\u001b[0;34m)\u001b[0m\u001b[0;34m\u001b[0m\u001b[0;34m\u001b[0m\u001b[0m\n\u001b[0;32m---> 70\u001b[0;31m     \u001b[0;32mreturn\u001b[0m \u001b[0mop\u001b[0m\u001b[0;34m(\u001b[0m\u001b[0ma\u001b[0m\u001b[0;34m,\u001b[0m \u001b[0mb\u001b[0m\u001b[0;34m)\u001b[0m\u001b[0;34m\u001b[0m\u001b[0;34m\u001b[0m\u001b[0m\n\u001b[0m\u001b[1;32m     71\u001b[0m \u001b[0;34m\u001b[0m\u001b[0m\n\u001b[1;32m     72\u001b[0m \u001b[0;34m\u001b[0m\u001b[0m\n",
            "\u001b[0;31mValueError\u001b[0m: operands could not be broadcast together with shapes (1267,) (864,) "
          ]
        }
      ]
    },
    {
      "cell_type": "code",
      "source": [
        "\n",
        "plt.scatter(x_train,remodel4.predict(x_train_q),color='pink')\n",
        "plt.scatter(x_train,y_train)\n",
        "plt.xlabel('x values')\n",
        "plt.ylabel('y valuess')"
      ],
      "metadata": {
        "colab": {
          "base_uri": "https://localhost:8080/",
          "height": 466
        },
        "id": "hf3U1ksTcnwm",
        "outputId": "c578acf6-e8c4-4eb5-9bc9-fedb850869a3"
      },
      "execution_count": null,
      "outputs": [
        {
          "output_type": "execute_result",
          "data": {
            "text/plain": [
              "Text(0, 0.5, 'y valuess')"
            ]
          },
          "metadata": {},
          "execution_count": 179
        },
        {
          "output_type": "display_data",
          "data": {
            "text/plain": [
              "<Figure size 640x480 with 1 Axes>"
            ],
            "image/png": "[encoded data removed]"
          },
          "metadata": {}
        }
      ]
    },
    {
      "cell_type": "code",
      "source": [
        "x_train,x_test,y_train,y_test=train_test_split(x,y,test_size=0.44,random_state=2)\n",
        "x_train_array = x_train.values\n",
        "\n",
        "# Reshape x_train_array to have two dimensions\n",
        "x_train = x_train_array.reshape(-1, 1)\n",
        "x_test_array = x_test.values\n",
        "\n",
        "# Reshape x_train_array to have two dimensions\n",
        "x_test = x_test_array.reshape(-1, 1)"
      ],
      "metadata": {
        "id": "ir4madSld9rf"
      },
      "execution_count": null,
      "outputs": []
    },
    {
      "cell_type": "code",
      "source": [
        "from sklearn.preprocessing import PolynomialFeatures\n",
        "o=PolynomialFeatures(degree=5,include_bias=True)\n",
        "x_train_o=o.fit_transform(x_train)\n",
        "x_test_o=o.transform(x_test)"
      ],
      "metadata": {
        "id": "YPgOteXMcpcs"
      },
      "execution_count": null,
      "outputs": []
    },
    {
      "cell_type": "code",
      "source": [
        "remodel5=LinearRegression()"
      ],
      "metadata": {
        "id": "Elg2P4FNcxHx"
      },
      "execution_count": null,
      "outputs": []
    },
    {
      "cell_type": "code",
      "source": [
        "\n",
        "remodel5.fit(x_train_o,y_train)\n",
        "y_predict5=remodel5.predict(x_test_o)\n",
        "score5=r2_score(y_test,y_predict5)\n",
        "print(score5)"
      ],
      "metadata": {
        "colab": {
          "base_uri": "https://localhost:8080/"
        },
        "id": "Xnh3nQYGczwY",
        "outputId": "144169a5-5344-4b2e-9487-841c364d67cf"
      },
      "execution_count": null,
      "outputs": [
        {
          "output_type": "stream",
          "name": "stdout",
          "text": [
            "0.680111277100151\n"
          ]
        }
      ]
    },
    {
      "cell_type": "code",
      "source": [
        "print(remodel5.coef_)"
      ],
      "metadata": {
        "colab": {
          "base_uri": "https://localhost:8080/"
        },
        "id": "4mue94AJc9KY",
        "outputId": "3b558fa1-dd69-4d06-8f89-41246973c254"
      },
      "execution_count": null,
      "outputs": [
        {
          "output_type": "stream",
          "name": "stdout",
          "text": [
            "[ 0.00000000e+00 -8.37898416e+02  7.49043965e+01 -3.26434271e+00\n",
            "  6.94102472e-02 -5.77520519e-04]\n"
          ]
        }
      ]
    },
    {
      "cell_type": "code",
      "source": [
        "n = len(y_test)\n",
        "\n",
        "mse = sum((y_test - y_predict5) ** 2) / n\n",
        "print(f\"Mean Squared Error (MSE): {mse}\")\n",
        "\n",
        "\n",
        "mae = sum(abs(y_test - y_predict5)) / n\n",
        "print(f\"Mean Absolute Error (MAE): {mae}\")"
      ],
      "metadata": {
        "colab": {
          "base_uri": "https://localhost:8080/"
        },
        "id": "V9qMc12boPMr",
        "outputId": "c0d1ed6a-5ee2-490d-c6e1-64dd0e01cf7f"
      },
      "execution_count": null,
      "outputs": [
        {
          "output_type": "stream",
          "name": "stdout",
          "text": [
            "Mean Squared Error (MSE): 22.823377245508624\n",
            "Mean Absolute Error (MAE): 3.518089414310775\n"
          ]
        }
      ]
    },
    {
      "cell_type": "code",
      "source": [
        "\n",
        "plt.scatter(x_train,remodel5.predict(x_train_o),color='pink')\n",
        "plt.scatter(x_train,y_train)\n",
        "plt.xlabel('x values')\n",
        "plt.ylabel('y valuess')"
      ],
      "metadata": {
        "colab": {
          "base_uri": "https://localhost:8080/",
          "height": 466
        },
        "id": "2cnbN6fMc4k0",
        "outputId": "a9b33ac7-f028-4e8e-f5d3-15deb6f602e7"
      },
      "execution_count": null,
      "outputs": [
        {
          "output_type": "execute_result",
          "data": {
            "text/plain": [
              "Text(0, 0.5, 'y valuess')"
            ]
          },
          "metadata": {},
          "execution_count": 185
        },
        {
          "output_type": "display_data",
          "data": {
            "text/plain": [
              "<Figure size 640x480 with 1 Axes>"
            ],
            "image/png": "[encoded data removed]"
          },
          "metadata": {}
        }
      ]
    },
    {
      "cell_type": "code",
      "source": [
        "from sklearn.preprocessing import PolynomialFeatures\n",
        "s=PolynomialFeatures(degree=6,include_bias=True)\n",
        "x_train_s=s.fit_transform(x_train)\n",
        "x_test_s=s.transform(x_test)"
      ],
      "metadata": {
        "id": "ctx_cXNzc65w"
      },
      "execution_count": null,
      "outputs": []
    },
    {
      "cell_type": "code",
      "source": [
        "remodel6=LinearRegression()"
      ],
      "metadata": {
        "id": "KuMguYU_dIBz"
      },
      "execution_count": null,
      "outputs": []
    },
    {
      "cell_type": "code",
      "source": [
        "remodel6.fit(x_train_s,y_train)\n",
        "y_predict6=remodel6.predict(x_test_s)\n",
        "score5=r2_score(y_test,y_predict6)\n",
        "print(score5)"
      ],
      "metadata": {
        "id": "OhR2vKfadLp7",
        "colab": {
          "base_uri": "https://localhost:8080/"
        },
        "outputId": "a2f75791-ac39-48ec-a6e7-37f5d09b6210"
      },
      "execution_count": null,
      "outputs": [
        {
          "output_type": "stream",
          "name": "stdout",
          "text": [
            "0.692134402860136\n"
          ]
        }
      ]
    },
    {
      "cell_type": "code",
      "source": [
        "print(remodel6.coef_)"
      ],
      "metadata": {
        "id": "B7ZI3YcDdOIr",
        "colab": {
          "base_uri": "https://localhost:8080/"
        },
        "outputId": "7e13ce83-0bcd-44ba-bb59-250598822192"
      },
      "execution_count": null,
      "outputs": [
        {
          "output_type": "stream",
          "name": "stdout",
          "text": [
            "[ 0.00000000e+00  3.72410178e+03 -4.61970065e+02  2.99354410e+01\n",
            " -1.06889285e+00  1.99511131e-02 -1.52231973e-04]\n"
          ]
        }
      ]
    },
    {
      "cell_type": "code",
      "source": [
        "n = len(y_test)\n",
        "\n",
        "mse = sum((y_test - y_predict6) ** 2) / n\n",
        "print(f\"Mean Squared Error (MSE): {mse}\")\n",
        "\n",
        "\n",
        "mae = sum(abs(y_test - y_predict6)) / n\n",
        "print(f\"Mean Absolute Error (MAE): {mae}\")"
      ],
      "metadata": {
        "colab": {
          "base_uri": "https://localhost:8080/"
        },
        "id": "c4WwotXVnyxm",
        "outputId": "b78b3332-c775-4683-9e85-af2ceb934859"
      },
      "execution_count": null,
      "outputs": [
        {
          "output_type": "stream",
          "name": "stdout",
          "text": [
            "Mean Squared Error (MSE): 21.965552898333474\n",
            "Mean Absolute Error (MAE): 3.325743601052403\n"
          ]
        }
      ]
    },
    {
      "cell_type": "code",
      "source": [
        "\n",
        "plt.scatter(x_train,remodel6.predict(x_train_s),color='pink')\n",
        "plt.scatter(x_train,y_train)\n",
        "plt.xlabel('x values')\n",
        "plt.ylabel('y valuess')"
      ],
      "metadata": {
        "colab": {
          "base_uri": "https://localhost:8080/",
          "height": 466
        },
        "id": "zUZO1IkpdQVT",
        "outputId": "5d679b34-285a-4f50-bca8-3818c70c0142"
      },
      "execution_count": null,
      "outputs": [
        {
          "output_type": "execute_result",
          "data": {
            "text/plain": [
              "Text(0, 0.5, 'y valuess')"
            ]
          },
          "metadata": {},
          "execution_count": 194
        },
        {
          "output_type": "display_data",
          "data": {
            "text/plain": [
              "<Figure size 640x480 with 1 Axes>"
            ],
            "image/png": "[encoded data removed]"
          },
          "metadata": {}
        }
      ]
    },
    {
      "cell_type": "code",
      "source": [],
      "metadata": {
        "id": "fUmWqOq0dSOW"
      },
      "execution_count": null,
      "outputs": []
    }
  ]
}