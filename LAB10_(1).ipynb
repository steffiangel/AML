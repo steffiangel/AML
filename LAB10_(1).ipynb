{
  "nbformat": 4,
  "nbformat_minor": 0,
  "metadata": {
    "colab": {
      "provenance": [],
      "include_colab_link": true
    },
    "kernelspec": {
      "name": "python3",
      "display_name": "Python 3"
    },
    "language_info": {
      "name": "python"
    }
  },
  "cells": [
    {
      "cell_type": "markdown",
      "metadata": {
        "id": "view-in-github",
        "colab_type": "text"
      },
      "source": [
        "<a href=\"https://colab.research.google.com/github/steffiangel/AML/blob/main/LAB10_(1).ipynb\" target=\"_parent\"><img src=\"https://colab.research.google.com/assets/colab-badge.svg\" alt=\"Open In Colab\"/></a>"
      ]
    },
    {
      "cell_type": "code",
      "execution_count": null,
      "metadata": {
        "id": "NefrqyoUQjJZ"
      },
      "outputs": [],
      "source": [
        "import numpy as np\n",
        "import matplotlib.pyplot as plt\n",
        "import matplotlib.colors as mcolors"
      ]
    },
    {
      "cell_type": "code",
      "source": [
        "n_rooms = 6\n",
        "goal = 5\n",
        "n_episodes = 1000\n",
        "learning_rate = 0.8\n",
        "discount = 0.95"
      ],
      "metadata": {
        "id": "rSSYt0v6RAKk"
      },
      "execution_count": null,
      "outputs": []
    },
    {
      "cell_type": "code",
      "source": [
        "paths={\n",
        "    0: [4],\n",
        "    1: [3, 5],\n",
        "    2: [3],\n",
        "    3: [1, 2, 4],\n",
        "    4: [0, 3, 5],\n",
        "    5: [1, 4, 5]\n",
        "}"
      ],
      "metadata": {
        "id": "5177ObRyRAM0"
      },
      "execution_count": null,
      "outputs": []
    },
    {
      "cell_type": "code",
      "source": [
        "def init_q_matrix():\n",
        "    return np.full((n_rooms, n_rooms), -1, dtype=float)"
      ],
      "metadata": {
        "id": "ApJ9dTQNRAPB"
      },
      "execution_count": null,
      "outputs": []
    },
    {
      "cell_type": "code",
      "source": [
        "def update_q_matrix(q_matrix, state, action, reward, next_state):\n",
        "    max_q_next = np.max(q_matrix[next_state, :])\n",
        "    q_matrix[state, action] = (1 - learning_rate) * q_matrix[state, action] + learning_rate * (reward + discount * max_q_next)"
      ],
      "metadata": {
        "id": "V8A1CcfARARB"
      },
      "execution_count": null,
      "outputs": []
    },
    {
      "cell_type": "code",
      "source": [
        "def q_learn():\n",
        "    q_matrix = init_q_matrix()\n",
        "\n",
        "    for episode in range(n_episodes):\n",
        "        for state in range(n_rooms - 1):\n",
        "            for action in paths[state]:\n",
        "                next_state = action if action != goal else goal\n",
        "                reward = 100 if next_state == goal else 0\n",
        "\n",
        "                update_q_matrix(q_matrix, state, action, reward, next_state)\n",
        "    return q_matrix"
      ],
      "metadata": {
        "id": "ymjNP73IRATT"
      },
      "execution_count": null,
      "outputs": []
    },
    {
      "cell_type": "code",
      "source": [
        "#, vmin=None, vmax=None\n",
        "def print_q(matrix, cmap='inferno', vmin=None, vmax=None):\n",
        "    labels = ['0','1','2','3','4','5']\n",
        "    fig, ax = plt.subplots()\n",
        "    if vmin is not None and vmax is not None:\n",
        "        norm = mcolors.Normalize(vmin=vmin, vmax=vmax)\n",
        "    else:\n",
        "        norm = None\n",
        "    im = ax.imshow(matrix, cmap='coolwarm', norm=norm)\n",
        "\n",
        "    ax.set_xticks(np.arange(len(labels)))\n",
        "    ax.set_yticks(np.arange(len(labels)))\n",
        "    ax.set_xticklabels(labels)\n",
        "    ax.set_yticklabels(labels)\n",
        "\n",
        "    for i in range(len(labels)):\n",
        "        for j in range(len(labels)):\n",
        "            text = ax.text(j, i, f'{matrix[i, j]:.2f}', ha='center', va='center', color='w')\n",
        "    plt.show()"
      ],
      "metadata": {
        "id": "6BoSBhmlRAVY"
      },
      "execution_count": null,
      "outputs": []
    },
    {
      "cell_type": "code",
      "source": [
        "def print_best(q_matrix):\n",
        "    current_state = 0\n",
        "    path = [current_state]\n",
        "    while current_state != goal:\n",
        "        action = np.argmax(q_matrix[current_state, :])\n",
        "        path.append(action)\n",
        "        current_state = action\n",
        "    print('Best path: ', path)"
      ],
      "metadata": {
        "id": "_-n5o87bRAXh"
      },
      "execution_count": null,
      "outputs": []
    },
    {
      "cell_type": "code",
      "source": [
        "if __name__ == '__main__':\n",
        "    final_q_matrix = q_learn()\n",
        "\n",
        "    print(\"Initial Matrix: \")\n",
        "    initial_matrix = np.full((n_rooms, n_rooms), -1, dtype=int)\n",
        "    for i, row in enumerate(initial_matrix):\n",
        "        for j in paths[i]:\n",
        "            if j == goal:\n",
        "                initial_matrix[i, j] = 100\n",
        "            else:\n",
        "                initial_matrix[i, j] = 0\n",
        "    print_q(initial_matrix, cmap='inferno', vmin=1, vmax=100)\n",
        "    print(\"\\n\")\n",
        "\n",
        "    print(\"Final Convergence Value Matrix:\")\n",
        "    print_q(final_q_matrix, cmap='coolwarm', vmin=-1, vmax=np.max(final_q_matrix))\n",
        "    print(\"\\n\")\n",
        "\n",
        "    print_best(final_q_matrix)"
      ],
      "metadata": {
        "colab": {
          "base_uri": "https://localhost:8080/",
          "height": 964
        },
        "id": "1a6GyTnIRAa9",
        "outputId": "427a33c7-1712-4041-fa7e-d2f1ffa5cb14"
      },
      "execution_count": null,
      "outputs": [
        {
          "output_type": "stream",
          "name": "stdout",
          "text": [
            "Initial Matrix: \n"
          ]
        },
        {
          "output_type": "display_data",
          "data": {
            "text/plain": [
              "<Figure size 640x480 with 1 Axes>"
            ],
            "image/png": "[encoded data removed]"
          },
          "metadata": {}
        },
        {
          "output_type": "stream",
          "name": "stdout",
          "text": [
            "\n",
            "\n",
            "Final Convergence Value Matrix:\n"
          ]
        },
        {
          "output_type": "display_data",
          "data": {
            "text/plain": [
              "<Figure size 640x480 with 1 Axes>"
            ],
            "image/png": "[encoded data removed]"
          },
          "metadata": {}
        },
        {
          "output_type": "stream",
          "name": "stdout",
          "text": [
            "\n",
            "\n",
            "Best path:  [0, 4, 5]\n"
          ]
        }
      ]
    },
    {
      "cell_type": "code",
      "source": [],
      "metadata": {
        "id": "31LiFl_QRmCe"
      },
      "execution_count": null,
      "outputs": []
    },
    {
      "cell_type": "code",
      "source": [],
      "metadata": {
        "id": "M6Ki8JiLRmEl"
      },
      "execution_count": null,
      "outputs": []
    },
    {
      "cell_type": "code",
      "source": [],
      "metadata": {
        "id": "kx-uSrGMRmIB"
      },
      "execution_count": null,
      "outputs": []
    }
  ]
}