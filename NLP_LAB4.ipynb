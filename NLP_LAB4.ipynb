{
  "nbformat": 4,
  "nbformat_minor": 0,
  "metadata": {
    "colab": {
      "provenance": [],
      "authorship_tag": "ABX9TyP3vWgg0FO0PeHLovRX4RZ3",
      "include_colab_link": true
    },
    "kernelspec": {
      "name": "python3",
      "display_name": "Python 3"
    },
    "language_info": {
      "name": "python"
    }
  },
  "cells": [
    {
      "cell_type": "markdown",
      "metadata": {
        "id": "view-in-github",
        "colab_type": "text"
      },
      "source": [
        "<a href=\"https://colab.research.google.com/github/steffiangel/AML/blob/main/NLP_LAB4.ipynb\" target=\"_parent\"><img src=\"https://colab.research.google.com/assets/colab-badge.svg\" alt=\"Open In Colab\"/></a>"
      ]
    },
    {
      "cell_type": "code",
      "execution_count": 14,
      "metadata": {
        "colab": {
          "base_uri": "https://localhost:8080/"
        },
        "id": "zR3_obzzMNsZ",
        "outputId": "2dd44858-8701-4fb8-eb7c-c07e3d000adf"
      },
      "outputs": [
        {
          "output_type": "stream",
          "name": "stderr",
          "text": [
            "[nltk_data] Downloading package wordnet to /root/nltk_data...\n",
            "[nltk_data]   Package wordnet is already up-to-date!\n"
          ]
        },
        {
          "output_type": "execute_result",
          "data": {
            "text/plain": [
              "True"
            ]
          },
          "metadata": {},
          "execution_count": 14
        }
      ],
      "source": [
        "import nltk\n",
        "from nltk import pos_tag\n",
        "from nltk.tokenize import word_tokenize\n",
        "nltk.download('wordnet')"
      ]
    },
    {
      "cell_type": "code",
      "source": [
        "from nltk.corpus import wordnet   #Import wordnet from the NLTK\n",
        "synset = wordnet.synsets(\"Travel\")\n",
        "print('Word and Type : ' + synset[0].name())\n",
        "print('Synonym of Travel is: ' + synset[0].lemmas()[0].name())\n",
        "print('The meaning of the word : ' + synset[0].definition())\n",
        "print('Example of Travel : ' + str(synset[0].examples()))"
      ],
      "metadata": {
        "colab": {
          "base_uri": "https://localhost:8080/"
        },
        "id": "bG9Xse1aMgig",
        "outputId": "fb7f2c35-6489-4fe5-ec20-2fb274f49f27"
      },
      "execution_count": 15,
      "outputs": [
        {
          "output_type": "stream",
          "name": "stdout",
          "text": [
            "Word and Type : travel.n.01\n",
            "Synonym of Travel is: travel\n",
            "The meaning of the word : the act of going from one place to another\n",
            "Example of Travel : ['he enjoyed selling but he hated the travel']\n"
          ]
        }
      ]
    },
    {
      "cell_type": "code",
      "source": [
        "import nltk\n",
        "nltk.download('punkt')"
      ],
      "metadata": {
        "colab": {
          "base_uri": "https://localhost:8080/"
        },
        "id": "YqXz74bFWnA_",
        "outputId": "30129c14-e213-492f-d933-2fd59563effa"
      },
      "execution_count": 17,
      "outputs": [
        {
          "output_type": "stream",
          "name": "stderr",
          "text": [
            "[nltk_data] Downloading package punkt to /root/nltk_data...\n",
            "[nltk_data]   Unzipping tokenizers/punkt.zip.\n"
          ]
        },
        {
          "output_type": "execute_result",
          "data": {
            "text/plain": [
              "True"
            ]
          },
          "metadata": {},
          "execution_count": 17
        }
      ]
    },
    {
      "cell_type": "code",
      "source": [
        "import nltk\n",
        "nltk.download('averaged_perceptron_tagger')"
      ],
      "metadata": {
        "colab": {
          "base_uri": "https://localhost:8080/"
        },
        "id": "yLuMeHd7WsPa",
        "outputId": "a630a025-32aa-4d0e-d7d4-2fd146baf063"
      },
      "execution_count": 19,
      "outputs": [
        {
          "output_type": "stream",
          "name": "stderr",
          "text": [
            "[nltk_data] Downloading package averaged_perceptron_tagger to\n",
            "[nltk_data]     /root/nltk_data...\n",
            "[nltk_data]   Unzipping taggers/averaged_perceptron_tagger.zip.\n"
          ]
        },
        {
          "output_type": "execute_result",
          "data": {
            "text/plain": [
              "True"
            ]
          },
          "metadata": {},
          "execution_count": 19
        }
      ]
    },
    {
      "cell_type": "code",
      "source": [
        "import nltk\n",
        "from nltk.corpus import wordnet\n",
        "from nltk import pos_tag, word_tokenize\n",
        "\n",
        "w = input('Enter your word: ')\n",
        "\n",
        "syn = list()\n",
        "ant = list()\n",
        "for synset in wordnet.synsets(w):\n",
        "    for lemma in synset.lemmas():\n",
        "        syn.append(lemma.name())\n",
        "        if lemma.antonyms():\n",
        "            ant.append(lemma.antonyms()[0].name())\n",
        "synset1 = wordnet.synsets(w)\n",
        "print('Meaning of the word: ', synset1[0].definition())\n",
        "print('Synonyms: ' + str(syn))\n",
        "print('Antonyms: ' + str(ant))\n",
        "print('Example of Travel : ' + str(synset1[0].examples()))\n",
        "\n",
        "\n",
        "def extract_nouns(synonyms):\n",
        "    nouns = []\n",
        "    for synonym in synonyms:\n",
        "\n",
        "        tokens = word_tokenize(synonym)\n",
        "        tagged_tokens = pos_tag(tokens)\n",
        "\n",
        "        for token, pos in tagged_tokens:\n",
        "            if pos.startswith('NN'):\n",
        "                nouns.append(token)\n",
        "    return nouns\n",
        "\n",
        "\n",
        "def extract_verbs(synonyms):\n",
        "    verbs = []\n",
        "    for synonym in synonyms:\n",
        "\n",
        "        tokens = word_tokenize(synonym)\n",
        "        tagged_tokens = pos_tag(tokens)\n",
        "\n",
        "        for token, pos in tagged_tokens:\n",
        "            if pos.startswith('VB'):\n",
        "                verbs.append(token)\n",
        "    return verbs\n",
        "\n",
        "\n",
        "def extract_adjectives_adverbs(synonyms):\n",
        "    adjectives = []\n",
        "    adverbs = []\n",
        "    for synonym in synonyms:\n",
        "\n",
        "        tokens = word_tokenize(synonym)\n",
        "        tagged_tokens = pos_tag(tokens)\n",
        "\n",
        "        for token, pos in tagged_tokens:\n",
        "            if pos.startswith('JJ'):\n",
        "                adjectives.append(token)\n",
        "            elif pos.startswith('RB'):\n",
        "                adverbs.append(token)\n",
        "    return adjectives, adverbs\n",
        "\n",
        "\n",
        "def find_hypernyms_hyponyms(word):\n",
        "    hypernyms = []\n",
        "    hyponyms = []\n",
        "    synsets = wordnet.synsets(word)\n",
        "    for synset in synsets:\n",
        "\n",
        "        for hypernym in synset.hypernyms():\n",
        "            for lemma in hypernym.lemmas():\n",
        "                hypernyms.append(lemma.name())\n",
        "\n",
        "        for hyponym in synset.hyponyms():\n",
        "            for lemma in hyponym.lemmas():\n",
        "                hyponyms.append(lemma.name())\n",
        "    return list(set(hypernyms)), list(set(hyponyms))\n",
        "\n",
        "def find_hyponym_similarity(word):\n",
        "\n",
        "    synset1 = wordnet.synsets(word)\n",
        "    hyponyms = []\n",
        "\n",
        "    for synset in synset1:\n",
        "        for hyponym in synset.hyponyms():\n",
        "            hyponyms.append(hyponym)\n",
        "    if len(hyponyms) < 2:\n",
        "        return \"There are not enough hyponyms to compare.\"\n",
        "\n",
        "    hyponym1 = hyponyms[0]\n",
        "    hyponym2 = hyponyms[1]\n",
        "\n",
        "    similarity = hyponym1.wup_similarity(hyponym2)\n",
        "\n",
        "    return similarity\n",
        "\n",
        "\n",
        "nouns = extract_nouns(syn)\n",
        "\n",
        "print('The nouns: ', nouns)\n",
        "verbs = extract_verbs(syn)\n",
        "print(\"Verbs: \", verbs)\n",
        "\n",
        "adjectives, adverbs = extract_adjectives_adverbs(syn)\n",
        "print(\"Adjectives extracted from synonyms:\", adjectives)\n",
        "print(\"Adverbs extracted from synonyms:\", adverbs)\n",
        "\n",
        "hypernyms, hyponyms = find_hypernyms_hyponyms(w)\n",
        "print(f\"Hypernyms: {hypernyms}\")\n",
        "print(f\"Hyponyms: {hyponyms}\")\n",
        "similarity_score = find_hyponym_similarity(w)\n",
        "print(f\"Similarity score between any two hyponyms of '{w}': {similarity_score}\")\n"
      ],
      "metadata": {
        "colab": {
          "base_uri": "https://localhost:8080/"
        },
        "id": "KYRAptzIMihF",
        "outputId": "7f270f02-cb0c-48ee-df98-3ff2438052a7"
      },
      "execution_count": 33,
      "outputs": [
        {
          "output_type": "stream",
          "name": "stdout",
          "text": [
            "Enter your word: shine\n",
            "Meaning of the word:  the quality of being bright and sending out rays of light\n",
            "Synonyms: ['radiance', 'radiancy', 'shine', 'effulgence', 'refulgence', 'refulgency', 'reflect', 'shine', 'shine', 'beam', 'glitter', 'glisten', 'glint', 'gleam', 'shine', 'shine', 'shine', 'glow', 'beam', 'radiate', 'shine', 'shine', 'fall', 'shine', 'strike', 'glow', 'beam', 'radiate', 'shine', 'polish', 'smooth', 'smoothen', 'shine']\n",
            "Antonyms: []\n",
            "Example of Travel : []\n",
            "The nouns:  ['radiance', 'radiancy', 'shine', 'effulgence', 'refulgence', 'refulgency', 'reflect', 'shine', 'shine', 'beam', 'glitter', 'glisten', 'glint', 'gleam', 'shine', 'shine', 'shine', 'glow', 'beam', 'radiate', 'shine', 'shine', 'fall', 'shine', 'strike', 'glow', 'beam', 'radiate', 'shine', 'smooth', 'smoothen', 'shine']\n",
            "Verbs:  []\n",
            "Adjectives extracted from synonyms: ['polish']\n",
            "Adverbs extracted from synonyms: []\n",
            "Hypernyms: ['come_about', 'feel', 'pass_off', 'fall_out', 'beautify', 'brightness', 'happen', 'hap', 'experience', 'go_on', 'seem', 'prettify', 'be', 'occur', 'look', 'fancify', 'emit', 'take_place', 'give_off', 'appear', 'embellish', 'give_out', 'pass']\n",
            "Hyponyms: ['burnish', 'shimmer', 'Simonise', 'twinkle', 'slick', 'burn', 'outshine', 'glare', 'sleek', 'polish', 'gleaming', 'winkle', 'flame', 'blaze', 'gleam', 'flick', 'flicker', 'opalesce', 'gloss', 'glossiness', 'luster', 'flare', 'glow', 'resplend', 'Simonize', 'shininess', 'coruscate', 'beat_down', 'lustre', 'scintillate', 'luminesce', 'sheen', 'beacon', 'furbish', 'lambency', 'buff', 'spangle', 'sparkle']\n",
            "Similarity score between any two hyponyms of 'shine': 0.8888888888888888\n"
          ]
        }
      ]
    },
    {
      "cell_type": "code",
      "source": [],
      "metadata": {
        "id": "5IXtTfVZYnsc"
      },
      "execution_count": null,
      "outputs": []
    }
  ]
}